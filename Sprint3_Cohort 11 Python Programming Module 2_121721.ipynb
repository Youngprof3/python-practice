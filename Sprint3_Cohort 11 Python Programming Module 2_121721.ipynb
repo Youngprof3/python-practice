{
 "cells": [
  {
   "cell_type": "markdown",
   "id": "2d8fc7f7",
   "metadata": {},
   "source": [
    "# Cohort 11 Sprint 2"
   ]
  },
  {
   "cell_type": "code",
   "execution_count": null,
   "id": "72675341",
   "metadata": {},
   "outputs": [],
   "source": [
    "Lists\n",
    "Sets\n",
    "Dictionaries\n",
    "Flow Control\n",
    "Functions\n",
    "Arrays"
   ]
  },
  {
   "cell_type": "code",
   "execution_count": null,
   "id": "d994b209",
   "metadata": {},
   "outputs": [],
   "source": [
    "# Lists\n",
    "\n",
    "#Containers\n",
    "\n",
    "\n",
    "Sophia\n",
    "Linda\n",
    "Victor\n",
    "Joseph\n",
    "Enya\n",
    "\n",
    "23\n",
    "25\n",
    "30\n",
    "21\n",
    "22\n",
    "\n",
    "87%\n",
    "67%\n",
    "99%\n",
    "30%\n",
    "60%"
   ]
  },
  {
   "cell_type": "code",
   "execution_count": 1,
   "id": "3c86c190",
   "metadata": {},
   "outputs": [],
   "source": [
    "classList = ['Sophia', 23, 87, 'Linda',25,67]"
   ]
  },
  {
   "cell_type": "code",
   "execution_count": 2,
   "id": "c488b9ef",
   "metadata": {},
   "outputs": [
    {
     "data": {
      "text/plain": [
       "['Sophia', 23, 87, 'Linda', 25, 67]"
      ]
     },
     "execution_count": 2,
     "metadata": {},
     "output_type": "execute_result"
    }
   ],
   "source": [
    "classList"
   ]
  },
  {
   "cell_type": "code",
   "execution_count": 4,
   "id": "81d399da",
   "metadata": {},
   "outputs": [],
   "source": [
    "studNames = ['Sophia', 'Linda', 'Victor', 'Joseph', 'Enya']\n",
    "studAge = [23,25,30,21,22] # these are the ages of the students in class SS1\n",
    "studScores = [87,67,99,30,60] # these scores are in percentages. For Biology"
   ]
  },
  {
   "cell_type": "code",
   "execution_count": null,
   "id": "4ef82e93",
   "metadata": {},
   "outputs": [],
   "source": []
  },
  {
   "cell_type": "code",
   "execution_count": null,
   "id": "8a67bb4a",
   "metadata": {},
   "outputs": [],
   "source": [
    "# Itirate over items in a list\n",
    "# get any item by their index position in a list\n",
    "# Add items to a list"
   ]
  },
  {
   "cell_type": "code",
   "execution_count": null,
   "id": "968d5acf",
   "metadata": {},
   "outputs": [],
   "source": [
    "# index positions\n",
    "\n",
    "# starts from 0 up to n-1 (length of the list, or the number of items in the list)"
   ]
  },
  {
   "cell_type": "code",
   "execution_count": 7,
   "id": "ded24353",
   "metadata": {},
   "outputs": [
    {
     "name": "stdout",
     "output_type": "stream",
     "text": [
      "0\n",
      "1\n",
      "2\n",
      "3\n",
      "4\n"
     ]
    }
   ],
   "source": [
    "# to get the length of s list use len()\n",
    "studNames = ['Sophia', 'Linda', 'Victor', 'Joseph', 'Enya']\n",
    "numStudents = len(studNames)\n",
    "#print(numStudents)\n",
    "\n",
    "for items in studNames:\n",
    "    print(studNames.index(items))"
   ]
  },
  {
   "cell_type": "code",
   "execution_count": 14,
   "id": "2096f4c7",
   "metadata": {},
   "outputs": [],
   "source": [
    "firstStudent = studNames[0]\n",
    "lastStudent = studNames[-2]"
   ]
  },
  {
   "cell_type": "code",
   "execution_count": 15,
   "id": "6ec77851",
   "metadata": {},
   "outputs": [
    {
     "name": "stdout",
     "output_type": "stream",
     "text": [
      "Sophia\n",
      "Joseph\n"
     ]
    }
   ],
   "source": [
    "print(firstStudent)\n",
    "print(lastStudent) "
   ]
  },
  {
   "cell_type": "code",
   "execution_count": 17,
   "id": "fd68ca8e",
   "metadata": {},
   "outputs": [
    {
     "name": "stdout",
     "output_type": "stream",
     "text": [
      "searchItem found in index position :  3\n"
     ]
    }
   ],
   "source": [
    "searchItem = 'Joseph'\n",
    "searchPool = studNames\n",
    "\n",
    "for items in searchPool:\n",
    "    if items == searchItem:\n",
    "        print('searchItem found in index position : ', searchPool.index(items))"
   ]
  },
  {
   "cell_type": "code",
   "execution_count": 19,
   "id": "93c0877c",
   "metadata": {},
   "outputs": [
    {
     "name": "stdout",
     "output_type": "stream",
     "text": [
      "[23, 25, 30, 21, 22, 27]\n"
     ]
    }
   ],
   "source": [
    "#Add to a list\n",
    "\n",
    "#.append()\n",
    "\n",
    "ageList = [23,25,30,21,22]\n",
    "\n",
    "#add 27 to the list ageList\n",
    "\n",
    "ageList.append(27)\n",
    "print(ageList)"
   ]
  },
  {
   "cell_type": "code",
   "execution_count": 21,
   "id": "e7f358e3",
   "metadata": {},
   "outputs": [
    {
     "name": "stdout",
     "output_type": "stream",
     "text": [
      "[23, 18, 30, 21, 22, 40, 23, 32, 18, 17]\n"
     ]
    }
   ],
   "source": [
    "ageList1 = [23,18,30,21,22]\n",
    "ageList2 = [40,23,32,18,17]\n",
    "\n",
    "# to cobine the two lists, us the .extend() function\n",
    "\n",
    "ageList1.extend(ageList2)\n",
    "print(ageList1)"
   ]
  },
  {
   "cell_type": "code",
   "execution_count": null,
   "id": "ebecf5f1",
   "metadata": {},
   "outputs": [],
   "source": []
  },
  {
   "cell_type": "code",
   "execution_count": 22,
   "id": "7b10a447",
   "metadata": {},
   "outputs": [
    {
     "name": "stdout",
     "output_type": "stream",
     "text": [
      "{32, 40, 17, 18, 21, 22, 23, 30}\n"
     ]
    }
   ],
   "source": [
    "#Sets\n",
    "\n",
    "ageListUnique = set(ageList1)\n",
    "print(ageListUnique)"
   ]
  },
  {
   "cell_type": "code",
   "execution_count": 62,
   "id": "d2fa52d0",
   "metadata": {},
   "outputs": [
    {
     "data": {
      "text/plain": [
       "{(2, 3, 7), (2, 4, 6, 2, 'Agatha')}"
      ]
     },
     "execution_count": 62,
     "metadata": {},
     "output_type": "execute_result"
    }
   ],
   "source": [
    "list1 = [2,3,7]\n",
    "list2 = [2,4,6,2,'Agatha']\n",
    "list1 = tuple(list1)\n",
    "list2 = tuple(list2)\n",
    "#list3 = set((list1,list2))\n",
    "\n",
    "set1 ={list1,list2}\n",
    "\n",
    "set1"
   ]
  },
  {
   "cell_type": "code",
   "execution_count": 63,
   "id": "81dab9ff",
   "metadata": {},
   "outputs": [
    {
     "data": {
      "text/plain": [
       "{2, 4, 6, 'Agatha'}"
      ]
     },
     "execution_count": 63,
     "metadata": {},
     "output_type": "execute_result"
    }
   ],
   "source": [
    "list3 = set(list2)\n",
    "\n",
    "list3"
   ]
  },
  {
   "cell_type": "code",
   "execution_count": 37,
   "id": "872c5d25",
   "metadata": {},
   "outputs": [],
   "source": [
    "list4 = [9,4,3,5] #list Mutable\n",
    "tple1 = (7,4,3,8) #tuple  immutable"
   ]
  },
  {
   "cell_type": "code",
   "execution_count": 38,
   "id": "787b91e7",
   "metadata": {},
   "outputs": [
    {
     "data": {
      "text/plain": [
       "[9, 4, 3, 5, 55]"
      ]
     },
     "execution_count": 38,
     "metadata": {},
     "output_type": "execute_result"
    }
   ],
   "source": [
    "list4.append(55)\n",
    "list4"
   ]
  },
  {
   "cell_type": "code",
   "execution_count": 41,
   "id": "7c0e5d9b",
   "metadata": {},
   "outputs": [
    {
     "ename": "AttributeError",
     "evalue": "'tuple' object has no attribute 'insert'",
     "output_type": "error",
     "traceback": [
      "\u001b[1;31m---------------------------------------------------------------------------\u001b[0m",
      "\u001b[1;31mAttributeError\u001b[0m                            Traceback (most recent call last)",
      "\u001b[1;32m<ipython-input-41-ddc2ac001dea>\u001b[0m in \u001b[0;36m<module>\u001b[1;34m\u001b[0m\n\u001b[1;32m----> 1\u001b[1;33m \u001b[0mtple1\u001b[0m\u001b[1;33m.\u001b[0m\u001b[0minsert\u001b[0m\u001b[1;33m(\u001b[0m\u001b[1;36m55\u001b[0m\u001b[1;33m)\u001b[0m\u001b[1;33m\u001b[0m\u001b[1;33m\u001b[0m\u001b[0m\n\u001b[0m",
      "\u001b[1;31mAttributeError\u001b[0m: 'tuple' object has no attribute 'insert'"
     ]
    }
   ],
   "source": [
    "tple1.insert(55)"
   ]
  },
  {
   "cell_type": "code",
   "execution_count": 55,
   "id": "4fded614",
   "metadata": {},
   "outputs": [
    {
     "name": "stdout",
     "output_type": "stream",
     "text": [
      "5\n",
      "9\n"
     ]
    }
   ],
   "source": [
    "#strings are immutable\n",
    "\n",
    "str1 = 'jerry'\n",
    "str7 = str1 = 'Jerry'\n",
    "\n",
    "#str7 == str1\n",
    "print(len(str1))\n",
    "str2 = 'Tega'\n",
    "\n",
    "str1 = str1+str2\n",
    "str1 = 'jerry'+'Tega'\n",
    "print(len(str1))\n"
   ]
  },
  {
   "cell_type": "code",
   "execution_count": 56,
   "id": "cc54c537",
   "metadata": {},
   "outputs": [
    {
     "data": {
      "text/plain": [
       "False"
      ]
     },
     "execution_count": 56,
     "metadata": {},
     "output_type": "execute_result"
    }
   ],
   "source": [
    "str7 == str1"
   ]
  },
  {
   "cell_type": "code",
   "execution_count": 57,
   "id": "5798ae6b",
   "metadata": {},
   "outputs": [
    {
     "name": "stdout",
     "output_type": "stream",
     "text": [
      "JerryTega\n",
      "Jerry\n"
     ]
    }
   ],
   "source": [
    "print(str1)\n",
    "print(str7)"
   ]
  },
  {
   "cell_type": "code",
   "execution_count": 59,
   "id": "f50debcd",
   "metadata": {},
   "outputs": [
    {
     "name": "stdout",
     "output_type": "stream",
     "text": [
      "4\n"
     ]
    }
   ],
   "source": [
    "x = y = 4\n",
    "x = y\n",
    "y = 6\n",
    "print(x)"
   ]
  },
  {
   "cell_type": "code",
   "execution_count": 61,
   "id": "99796846",
   "metadata": {},
   "outputs": [
    {
     "ename": "AttributeError",
     "evalue": "'str' object has no attribute 'append'",
     "output_type": "error",
     "traceback": [
      "\u001b[1;31m---------------------------------------------------------------------------\u001b[0m",
      "\u001b[1;31mAttributeError\u001b[0m                            Traceback (most recent call last)",
      "\u001b[1;32m<ipython-input-61-2528fd2b4dd7>\u001b[0m in \u001b[0;36m<module>\u001b[1;34m\u001b[0m\n\u001b[0;32m      1\u001b[0m \u001b[0mnames\u001b[0m \u001b[1;33m=\u001b[0m \u001b[1;34m'tega'\u001b[0m\u001b[1;33m\u001b[0m\u001b[1;33m\u001b[0m\u001b[0m\n\u001b[1;32m----> 2\u001b[1;33m \u001b[0mnames\u001b[0m\u001b[1;33m.\u001b[0m\u001b[0mappend\u001b[0m\u001b[1;33m(\u001b[0m\u001b[1;34m't'\u001b[0m\u001b[1;33m)\u001b[0m\u001b[1;33m\u001b[0m\u001b[1;33m\u001b[0m\u001b[0m\n\u001b[0m",
      "\u001b[1;31mAttributeError\u001b[0m: 'str' object has no attribute 'append'"
     ]
    }
   ],
   "source": [
    "names = 'tega'\n",
    "names.append('t')"
   ]
  },
  {
   "cell_type": "code",
   "execution_count": null,
   "id": "8eac2de5",
   "metadata": {},
   "outputs": [],
   "source": []
  },
  {
   "cell_type": "code",
   "execution_count": 32,
   "id": "be180124",
   "metadata": {},
   "outputs": [],
   "source": [
    "list1 = [2,3,7]\n",
    "list2 = [2,4,6,2,'Agatha']\n",
    "list1.extend(list2)\n",
    "#list3 = set((list1,list2))\n",
    "#list3 = set(list2)\n",
    "set2 =set(list1)"
   ]
  },
  {
   "cell_type": "code",
   "execution_count": 33,
   "id": "25d7b568",
   "metadata": {},
   "outputs": [
    {
     "data": {
      "text/plain": [
       "{2, 3, 4, 6, 7, 'Agatha'}"
      ]
     },
     "execution_count": 33,
     "metadata": {},
     "output_type": "execute_result"
    }
   ],
   "source": [
    "set2"
   ]
  },
  {
   "cell_type": "code",
   "execution_count": null,
   "id": "d47fb109",
   "metadata": {},
   "outputs": [],
   "source": [
    "Union # returns all items in both sets without a duplicate\n",
    "intersect # Selects items that are identical in the sets"
   ]
  },
  {
   "cell_type": "code",
   "execution_count": 64,
   "id": "c4b36b61",
   "metadata": {},
   "outputs": [
    {
     "data": {
      "text/plain": [
       "{1, 2, 3, 4, 5, 6, 7, 8}"
      ]
     },
     "execution_count": 64,
     "metadata": {},
     "output_type": "execute_result"
    }
   ],
   "source": [
    "A = {1, 2, 3, 4, 5}\n",
    "B = {4, 5, 6, 7, 8}\n",
    "\n",
    "A.union(B)"
   ]
  },
  {
   "cell_type": "code",
   "execution_count": 67,
   "id": "ba3c1716",
   "metadata": {},
   "outputs": [],
   "source": [
    "A.update(B)"
   ]
  },
  {
   "cell_type": "code",
   "execution_count": null,
   "id": "2f7f53da",
   "metadata": {},
   "outputs": [],
   "source": [
    "s1 = {2,3,5}\n",
    "s2 = {4,6,7}\n",
    "s3 = {5,2,9}\n",
    "\n",
    "# In one line of code Union of all thr sets\n",
    "\n",
    "#In one line of code Intersect of all the sets\n",
    "\n"
   ]
  },
  {
   "cell_type": "code",
   "execution_count": 68,
   "id": "91604306",
   "metadata": {},
   "outputs": [
    {
     "data": {
      "text/plain": [
       "{1, 2, 3, 4, 5, 6, 7, 8}"
      ]
     },
     "execution_count": 68,
     "metadata": {},
     "output_type": "execute_result"
    }
   ],
   "source": [
    "A"
   ]
  },
  {
   "cell_type": "code",
   "execution_count": 65,
   "id": "05d725fc",
   "metadata": {},
   "outputs": [
    {
     "data": {
      "text/plain": [
       "{4, 5}"
      ]
     },
     "execution_count": 65,
     "metadata": {},
     "output_type": "execute_result"
    }
   ],
   "source": [
    "A.intersection(B)"
   ]
  },
  {
   "cell_type": "code",
   "execution_count": null,
   "id": "d9717087",
   "metadata": {},
   "outputs": [],
   "source": [
    "Dictionaries\n",
    "Flow Control\n",
    "Functions"
   ]
  },
  {
   "cell_type": "code",
   "execution_count": null,
   "id": "067a5723",
   "metadata": {},
   "outputs": [],
   "source": []
  },
  {
   "cell_type": "code",
   "execution_count": null,
   "id": "896de65e",
   "metadata": {},
   "outputs": [],
   "source": [
    "#Dictionaries\n",
    "\n",
    "# Dictionaries are also containers but unlike lists, they hold Keys and Value pairs\n",
    "# in dictionaries, Keys MUST be unique and no duplicate of keys are allowed\n",
    "# values can have duplicates"
   ]
  },
  {
   "cell_type": "code",
   "execution_count": null,
   "id": "6b1e2e66",
   "metadata": {},
   "outputs": [],
   "source": [
    "listX = [65,67,57]"
   ]
  },
  {
   "cell_type": "code",
   "execution_count": null,
   "id": "7610c00c",
   "metadata": {},
   "outputs": [],
   "source": [
    "classList = ['Sophia', 23, 87, 'Linda',25,67]\n",
    "\n",
    "studNames = ['Sophia', 'Linda', 'Victor', 'Joseph', 'Enya']\n",
    "studAge = [23,25,30,21,22] # these are the ages of the students in class SS1\n",
    "studScores = [87,67,99,30,60] # these scores are in percentages. For Biology"
   ]
  },
  {
   "cell_type": "code",
   "execution_count": 70,
   "id": "8848dc3f",
   "metadata": {},
   "outputs": [],
   "source": [
    "myDict = {}\n",
    "myDict2 = dict()"
   ]
  },
  {
   "cell_type": "code",
   "execution_count": 71,
   "id": "69232dfe",
   "metadata": {},
   "outputs": [
    {
     "data": {
      "text/plain": [
       "dict"
      ]
     },
     "execution_count": 71,
     "metadata": {},
     "output_type": "execute_result"
    }
   ],
   "source": [
    "type(myDict)"
   ]
  },
  {
   "cell_type": "code",
   "execution_count": 72,
   "id": "ea93ade5",
   "metadata": {},
   "outputs": [
    {
     "data": {
      "text/plain": [
       "dict"
      ]
     },
     "execution_count": 72,
     "metadata": {},
     "output_type": "execute_result"
    }
   ],
   "source": [
    "type(myDict2)"
   ]
  },
  {
   "cell_type": "code",
   "execution_count": 73,
   "id": "3f95e08b",
   "metadata": {},
   "outputs": [
    {
     "name": "stdout",
     "output_type": "stream",
     "text": [
      "{}\n"
     ]
    }
   ],
   "source": [
    "print(myDict)"
   ]
  },
  {
   "cell_type": "code",
   "execution_count": null,
   "id": "42caf047",
   "metadata": {},
   "outputs": [],
   "source": [
    "#Assuming I wanted to store for each student, their age and their class\n",
    "\n",
    "# We can use dictionaries, where the key will be student name and the values will be a list of their age and class"
   ]
  },
  {
   "cell_type": "code",
   "execution_count": 74,
   "id": "8720eaa8",
   "metadata": {},
   "outputs": [],
   "source": [
    "studNames = ['Sophia', 'Linda', 'Victor', 'Joseph', 'Enya']\n",
    "studAge = [23,25,30,21,22] # these are the ages of the students in class SS1\n",
    "studClass = ['ss1','ss2','ss3','ss4','ss5'] # these scores are in percentages. For Biology"
   ]
  },
  {
   "cell_type": "code",
   "execution_count": 84,
   "id": "09ea67c1",
   "metadata": {},
   "outputs": [],
   "source": [
    "studRecords = {'Sophia':[23,'ss1'], 'Linda':[25, 'ss2'], 'Victor':[25, 'ss2'], 'Joseph':[21, 'ss4'], 'Enya':[22,'ss5']}"
   ]
  },
  {
   "cell_type": "code",
   "execution_count": 85,
   "id": "55f3d8b5",
   "metadata": {},
   "outputs": [
    {
     "data": {
      "text/plain": [
       "{'Sophia': [23, 'ss1'],\n",
       " 'Linda': [25, 'ss2'],\n",
       " 'Victor': [25, 'ss2'],\n",
       " 'Joseph': [21, 'ss4'],\n",
       " 'Enya': [22, 'ss5']}"
      ]
     },
     "execution_count": 85,
     "metadata": {},
     "output_type": "execute_result"
    }
   ],
   "source": [
    "studRecords"
   ]
  },
  {
   "cell_type": "code",
   "execution_count": 77,
   "id": "a1ecc2d1",
   "metadata": {},
   "outputs": [
    {
     "data": {
      "text/plain": [
       "[23, 'ss1']"
      ]
     },
     "execution_count": 77,
     "metadata": {},
     "output_type": "execute_result"
    }
   ],
   "source": [
    "studRecords['Sophia']"
   ]
  },
  {
   "cell_type": "code",
   "execution_count": 86,
   "id": "29509c08",
   "metadata": {},
   "outputs": [],
   "source": [
    "lindaInfo = studRecords['Linda']"
   ]
  },
  {
   "cell_type": "code",
   "execution_count": 87,
   "id": "05c98fd4",
   "metadata": {},
   "outputs": [
    {
     "data": {
      "text/plain": [
       "[25, 'ss2']"
      ]
     },
     "execution_count": 87,
     "metadata": {},
     "output_type": "execute_result"
    }
   ],
   "source": [
    "lindaInfo"
   ]
  },
  {
   "cell_type": "code",
   "execution_count": 88,
   "id": "8d88fb5e",
   "metadata": {},
   "outputs": [
    {
     "data": {
      "text/plain": [
       "dict_keys(['Sophia', 'Linda', 'Victor', 'Joseph', 'Enya'])"
      ]
     },
     "execution_count": 88,
     "metadata": {},
     "output_type": "execute_result"
    }
   ],
   "source": [
    "# to get ALL the keys in a dictionary use    .keys()\n",
    "\n",
    "\n",
    "\n",
    "studRecords.keys()"
   ]
  },
  {
   "cell_type": "code",
   "execution_count": 89,
   "id": "d6e1d9a0",
   "metadata": {},
   "outputs": [
    {
     "data": {
      "text/plain": [
       "dict_values([[23, 'ss1'], [25, 'ss2'], [25, 'ss2'], [21, 'ss4'], [22, 'ss5']])"
      ]
     },
     "execution_count": 89,
     "metadata": {},
     "output_type": "execute_result"
    }
   ],
   "source": [
    "# to get ALL the values in a dictionary use    .values()\n",
    "\n",
    "studRecords.values()"
   ]
  },
  {
   "cell_type": "code",
   "execution_count": null,
   "id": "4b829c49",
   "metadata": {},
   "outputs": [],
   "source": []
  },
  {
   "cell_type": "code",
   "execution_count": null,
   "id": "74443eaf",
   "metadata": {},
   "outputs": [],
   "source": [
    "#For Loops\n",
    "\n",
    "studRecords = {'Sophia':[23,'ss1'], 'Linda':[25, 'ss2'], 'Victor':[25, 'ss2'], 'Joseph':[21, 'ss4'], 'Enya':[22,'ss5']}"
   ]
  },
  {
   "cell_type": "code",
   "execution_count": null,
   "id": "61468b27",
   "metadata": {},
   "outputs": [],
   "source": []
  },
  {
   "cell_type": "code",
   "execution_count": null,
   "id": "d1bd805e",
   "metadata": {},
   "outputs": [],
   "source": [
    "studNames = ['Sophia', 'Linda', 'Victor', 'Joseph', 'Enya']\n",
    "\n",
    "# loop through the student list, if Victor is found, alert the police\n",
    "\n",
    "for loop\n",
    "if statement\n"
   ]
  },
  {
   "cell_type": "code",
   "execution_count": 96,
   "id": "53f8b914",
   "metadata": {},
   "outputs": [
    {
     "name": "stdout",
     "output_type": "stream",
     "text": [
      "current result is not person of interest. name is:  Sophia\n",
      "current result is not person of interest. name is:  Linda\n",
      "Alert!... Person of interest found. Name is:  Victor\n"
     ]
    }
   ],
   "source": [
    "searchPerson = 'Victor'\n",
    "for items in studNames:\n",
    "    #print(name)\n",
    "    if items == searchPerson:\n",
    "        print('Alert!... Person of interest found. Name is: ', items)\n",
    "        break\n",
    "    else:\n",
    "        print('current result is not person of interest. name is: ', items)"
   ]
  },
  {
   "cell_type": "code",
   "execution_count": 97,
   "id": "c3626a1b",
   "metadata": {},
   "outputs": [
    {
     "name": "stdout",
     "output_type": "stream",
     "text": [
      "Sophia\n",
      "[23, 'ss1']\n",
      "Linda\n",
      "[25, 'ss2']\n",
      "Victor\n",
      "[25, 'ss2']\n",
      "Joseph\n",
      "[21, 'ss4']\n",
      "Enya\n",
      "[22, 'ss5']\n"
     ]
    }
   ],
   "source": [
    "for vals in studRecords.items():\n",
    "    key,val = vals\n",
    "    print(key)\n",
    "    print(val)"
   ]
  },
  {
   "cell_type": "code",
   "execution_count": null,
   "id": "9427a144",
   "metadata": {},
   "outputs": [],
   "source": []
  },
  {
   "cell_type": "code",
   "execution_count": null,
   "id": "998fc23f",
   "metadata": {},
   "outputs": [],
   "source": []
  },
  {
   "cell_type": "code",
   "execution_count": null,
   "id": "427f69fc",
   "metadata": {},
   "outputs": [],
   "source": [
    "#Sets\n",
    "#Sets are unordered.\n",
    "#Set elements are unique. Duplicate elements are not allowed.\n",
    "#A set itself may be modified, but the elements contained in the set must be of an immutable type."
   ]
  },
  {
   "cell_type": "code",
   "execution_count": null,
   "id": "8737ec18",
   "metadata": {},
   "outputs": [],
   "source": [
    "# Different types of sets in Python\n",
    "# set of integers\n",
    "my_set = {1, 2, 3}\n",
    "print(my_set)\n",
    "\n",
    "# set of mixed datatypes\n",
    "my_set = {1.0, \"Hello\", (1, 2, 3)}\n",
    "print(my_set)"
   ]
  },
  {
   "cell_type": "code",
   "execution_count": null,
   "id": "e0b807dc",
   "metadata": {},
   "outputs": [],
   "source": []
  },
  {
   "cell_type": "code",
   "execution_count": null,
   "id": "cc40ae1d",
   "metadata": {},
   "outputs": [],
   "source": [
    "# set cannot have duplicates\n",
    "# Output: {1, 2, 3, 4}\n",
    "my_set = {1, 2, 3, 4, 3, 2}\n",
    "print(my_set)\n",
    "\n",
    "# we can make set from a list\n",
    "# Output: {1, 2, 3}\n",
    "my_set = set([1, 2, 3, 2])\n",
    "print(my_set)\n",
    "\n",
    "# set cannot have mutable items\n",
    "# here [3, 4] is a mutable list\n",
    "# this will cause an error.\n",
    "\n",
    "my_set = {1, 2, [3, 4]}"
   ]
  },
  {
   "cell_type": "code",
   "execution_count": null,
   "id": "95ff5f28",
   "metadata": {},
   "outputs": [],
   "source": []
  },
  {
   "cell_type": "code",
   "execution_count": null,
   "id": "6d0d7c2c",
   "metadata": {},
   "outputs": [],
   "source": [
    "# Distinguish set and dictionary while creating empty set\n",
    "\n",
    "# initialize a with {}\n",
    "a = {}\n",
    "\n",
    "# check data type of a\n",
    "print(type(a))\n",
    "\n",
    "# initialize a with set()\n",
    "a = set()\n",
    "\n",
    "# check data type of a\n",
    "print(type(a))"
   ]
  },
  {
   "cell_type": "code",
   "execution_count": null,
   "id": "0c5a831b",
   "metadata": {},
   "outputs": [],
   "source": [
    "#Sets are mutable. However, since they are unordered, indexing has no meaning.\n",
    "\n",
    "#We cannot access or change an element of a set using indexing or slicing. Set data type does not support it.\n",
    "\n",
    "#We can add a single element using the add() method, and multiple elements using the update() method. The update() method can take tuples, lists, strings or other sets as its argument. In all cases, duplicates are avoided."
   ]
  },
  {
   "cell_type": "code",
   "execution_count": null,
   "id": "380f716f",
   "metadata": {},
   "outputs": [],
   "source": [
    "# initialize my_set\n",
    "my_set = {1, 3}\n",
    "print(my_set)\n",
    "\n",
    "# my_set[0]\n",
    "# if you uncomment the above line\n",
    "# you will get an error\n",
    "# TypeError: 'set' object does not support indexing\n",
    "\n",
    "# add an element\n",
    "# Output: {1, 2, 3}\n",
    "my_set.add(2)\n",
    "print(my_set)\n",
    "\n",
    "# add multiple elements\n",
    "# Output: {1, 2, 3, 4}\n",
    "my_set.update([2, 3, 4])\n",
    "print(my_set)\n",
    "\n",
    "# add list and set\n",
    "# Output: {1, 2, 3, 4, 5, 6, 8}\n",
    "my_set.update([4, 5], {1, 6, 8})\n",
    "print(my_set)"
   ]
  }
 ],
 "metadata": {
  "kernelspec": {
   "display_name": "Python 3",
   "language": "python",
   "name": "python3"
  },
  "language_info": {
   "codemirror_mode": {
    "name": "ipython",
    "version": 3
   },
   "file_extension": ".py",
   "mimetype": "text/x-python",
   "name": "python",
   "nbconvert_exporter": "python",
   "pygments_lexer": "ipython3",
   "version": "3.8.8"
  }
 },
 "nbformat": 4,
 "nbformat_minor": 5
}
