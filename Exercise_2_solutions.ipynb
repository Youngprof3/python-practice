{
 "cells": [
  {
   "cell_type": "code",
   "execution_count": null,
   "id": "7ef765f5",
   "metadata": {},
   "outputs": [],
   "source": [
    "#Exercise 35: Even or Odd?\n",
    "variableNumber = int(input('Enter a number'))\n",
    "\n",
    "if variableNumber%2 == 0:\n",
    "    print('The number is even: ')\n",
    "else:\n",
    "    print('The number is odd')"
   ]
  },
  {
   "cell_type": "code",
   "execution_count": null,
   "id": "67b0fd1d",
   "metadata": {},
   "outputs": [],
   "source": [
    "variableNumber = int(input('Enter a number:'))\n",
    "\n",
    "if variableNumber%2 == 0:\n",
    "    print(f'{variableNumber} is an even number.')\n",
    "else:\n",
    "    print(f'{variableNumber} is an odd number.')"
   ]
  },
  {
   "cell_type": "code",
   "execution_count": null,
   "id": "c67a084b",
   "metadata": {},
   "outputs": [],
   "source": [
    "#Exercise 36:Dog Years\n",
    "first_twohumanyears = 2\n",
    "first_twohumanyears4dogs = 10.5\n",
    "additionalhumanyears4dogs = 4\n",
    "userinput = float(input('Enter human years: '))\n",
    "lessnumberhumanyears = userinput/first_twohumanyears\n",
    "additionalhumanyears = userinput - first_twohumanyears\n",
    "additionalhumanyearscal = additionalhumanyears * additionalhumanyears4dogs\n",
    "if userinput > 2:\n",
    "    dog_years = additionalhumanyearscal + first_twohumanyears4dogs\n",
    "    print('The conversion to dog years is ', dog_years )\n",
    "else:\n",
    "    if userinput < 0:\n",
    "          print('Error, Enter a positive value')\n",
    "    else:\n",
    "        dog_years = lessnumberhumanyears*first_twohumanyears4dogs\n",
    "        print('The conversion to dog years is ', dog_years)"
   ]
  },
  {
   "cell_type": "code",
   "execution_count": null,
   "id": "625856dd",
   "metadata": {},
   "outputs": [],
   "source": [
    "def hum_dog_conv():\n",
    "    userinput = float(input('Enter human years: '))\n",
    " \n",
    "    additionalhumanyears = (userinput - 2) * 4\n",
    "    if userinput > 2:\n",
    "        dog_years = additionalhumanyears + 10.5\n",
    "        print('The conversion to dog years is ', dog_years )\n",
    "    else:\n",
    "        if userinput < 0:\n",
    "            print('Error, Enter a positive value')\n",
    "        else:\n",
    "            dog_years = (userinput/2)*10.5\n",
    "            print('The conversion to dog years is ', dog_years)"
   ]
  },
  {
   "cell_type": "code",
   "execution_count": null,
   "id": "4647864e",
   "metadata": {},
   "outputs": [],
   "source": [
    "hum_dog_conv()"
   ]
  },
  {
   "cell_type": "code",
   "execution_count": null,
   "id": "cd97ccef",
   "metadata": {},
   "outputs": [],
   "source": [
    "#Exercise 37:Vowel or Consonant\n",
    "vowel = 'a,e,i,o,u,A,E,I,O,U'\n",
    "special = 'Y,y'\n",
    "consonant = 'b,c,d,f,g,h,j,k,l,m,n,p,q,r,s,t,v,w,x,z,B,C,D,F,G,H,J,K,L,M,N,P,Q,R,S,T,V,W,X,Z'\n",
    "userinput = str(input('Enter an alphabet: '))\n",
    "if userinput in vowel:\n",
    "    print('The alphabet is a vowel')\n",
    "else:\n",
    "    if userinput in consonant:\n",
    "        print('The alphabet is a consonant')\n",
    "    if userinput in special:\n",
    "        print('The alphabet y is a vowel and sometimes y is a consonant')"
   ]
  },
  {
   "cell_type": "code",
   "execution_count": 9,
   "id": "eb3598d0",
   "metadata": {},
   "outputs": [
    {
     "name": "stdout",
     "output_type": "stream",
     "text": [
      "Enter a number: 6\n",
      "The shape is a Hexagon\n"
     ]
    }
   ],
   "source": [
    "#Exercise 38:Name That Shape\n",
    "Triangle = 3\n",
    "Quadrilateral = 4\n",
    "Pentagon = 5\n",
    "Hexagon =6\n",
    "Heptagon = 7\n",
    "Octagon = 8\n",
    "Nonagon = 9\n",
    "Decagon = 10\n",
    "userinput = int(input('Enter a number: '))\n",
    "if userinput == 3:\n",
    "    print('The shape is a triangle')\n",
    "elif userinput == 4:\n",
    "    print('The shape is a Quadrilateral')\n",
    "elif userinput == 5:\n",
    "    print('The shape is a Pentagon')\n",
    "elif userinput == 6:\n",
    "    print('The shape is a Hexagon')\n",
    "elif userinput == 7:\n",
    "    print('The shape is a Heptagon')\n",
    "elif userinput == 8:\n",
    "    print('The shape is a Octagon')\n",
    "elif userinput == 9:\n",
    "    print('The shape is a Nonagon')\n",
    "elif userinput == 10:\n",
    "    print('The shape is a Decagon')\n",
    "else:\n",
    "    print('Error, input numbers from 3-10')\n",
    "    "
   ]
  },
  {
   "cell_type": "code",
   "execution_count": 7,
   "id": "b1cf81df",
   "metadata": {},
   "outputs": [
    {
     "name": "stdout",
     "output_type": "stream",
     "text": [
      "Enter any month of choice: June\n",
      "It contains 30 days\n"
     ]
    }
   ],
   "source": [
    "#Exercise 39:Month Name to Number of Days\n",
    "month1 = ['February']\n",
    "month1days = [28,29]\n",
    "month2 = ['September', 'April', 'June', 'November']\n",
    "month2days = [30]\n",
    "month3 = ['January', 'March', 'May', 'July', 'August', 'October', 'December']\n",
    "month3days = [31]\n",
    "userinput = str(input('Enter any month of choice: '))\n",
    "if userinput in month1:\n",
    "    print('It contains either 28 0r 29 days in a leap year')\n",
    "elif userinput in month2:\n",
    "    print('It contains 30 days')\n",
    "elif userinput in month3:\n",
    "    print('It coantains 31 days')"
   ]
  },
  {
   "cell_type": "code",
   "execution_count": 11,
   "id": "222773cf",
   "metadata": {},
   "outputs": [
    {
     "name": "stdout",
     "output_type": "stream",
     "text": [
      "Enter a number: 200\n",
      "The noise level is above Jackhammer\n"
     ]
    }
   ],
   "source": [
    "#Exercise 40: Sound Levels\n",
    "import numpy as np\n",
    "jackhammer = 130 \n",
    "gasLawnmower = 106 \n",
    "alarmClock = 70 \n",
    "quietRoom = 40\n",
    "np.arange(107,130)\n",
    "a = np.arange(107,130)\n",
    "np.arange(71,106)\n",
    "b = np.arange(71,106)\n",
    "np.arange(41, 70)\n",
    "c = np.arange(41,70)\n",
    "userinput = float(input('Enter a number: '))\n",
    "if userinput == jackhammer:\n",
    "    print('The noise value is Jackhammer')\n",
    "elif userinput == gasLawnmower:\n",
    "    print('The noise value is Gaslawnmower')\n",
    "elif userinput == alarmClock:\n",
    "    print('The noise value is Alarmclock')\n",
    "elif userinput == quietRoom:\n",
    "    print('The noise value is Quietroom')\n",
    "elif userinput in a:\n",
    "    print('The noise value is between Jackhammer and Gaslawnmower')\n",
    "elif userinput in b:\n",
    "    print('The noise value is between Gaslawnmower and Alarmclock')\n",
    "elif userinput in c:\n",
    "    print('The noise value is between Alarmclock and Quietroom')\n",
    "elif userinput < 40:\n",
    "    print('The noise level is below Quietroom')\n",
    "else:\n",
    "    print('The noise level is above Jackhammer')"
   ]
  },
  {
   "cell_type": "code",
   "execution_count": 13,
   "id": "6086d01c",
   "metadata": {},
   "outputs": [
    {
     "name": "stdout",
     "output_type": "stream",
     "text": [
      "Enter the number of equal sides of a triange you want: 1\n",
      "Error, input either 0,2 or 3\n"
     ]
    }
   ],
   "source": [
    "#Exercise 41: Classifying Triangles\n",
    "equilateral = 3\n",
    "isosceles = 2\n",
    "scalene = 0\n",
    "userinput= int(input('Enter the number of equal sides of a triange you want: '))\n",
    "if userinput == 3:\n",
    "    print('The triangle type is equilateral')\n",
    "elif userinput == 2:\n",
    "    print('The triangle type is isosceless')\n",
    "elif userinput == 0:\n",
    "    print('The triangle type is scalene')\n",
    "else:\n",
    "    print('Error, input either 0,2 or 3')"
   ]
  },
  {
   "cell_type": "code",
   "execution_count": null,
   "id": "2e03c30f",
   "metadata": {},
   "outputs": [],
   "source": []
  },
  {
   "cell_type": "code",
   "execution_count": null,
   "id": "312af175",
   "metadata": {},
   "outputs": [],
   "source": []
  },
  {
   "cell_type": "code",
   "execution_count": 15,
   "id": "42cf1b48",
   "metadata": {},
   "outputs": [
    {
     "name": "stdout",
     "output_type": "stream",
     "text": [
      "Enter a denomination value: 100\n",
      "The name of the individual whose image appear on it is Benjamin Franklin\n"
     ]
    }
   ],
   "source": [
    "#Exercise 44: Faces onMoney\n",
    "GeorgeWashington = 1\n",
    "ThomasJefferson = 2\n",
    "AbrahamLincoln = 5\n",
    "AlexanderHamilton = 10\n",
    "AndrewJackson = 20\n",
    "UlyssesSGrant = 50\n",
    "BenjaminFranklin = 100\n",
    "userinput = int(input('Enter a denomination value: '))\n",
    "if userinput == 1:\n",
    "    print('The name of the individual whose image appear on it is George Washington')\n",
    "elif userinput == 2:\n",
    "    print('The name of the individual whose image appear on it is Thomas Jefferson')\n",
    "elif userinput == 5:\n",
    "    print('The name of the individual whose image appear on it is Abraham Lincoln')\n",
    "elif userinput == 10:\n",
    "    print('The name of the individual whose image appear on it is Alexander Hamilton')\n",
    "elif userinput == 20:\n",
    "    print('The name of the individual whose image appear on it is Andrew Jackson')\n",
    "elif userinput == 50:\n",
    "    print('The name of the individual whose image appear on it is Ulysses S. Grant')\n",
    "elif userinput == 100:\n",
    "    print('The name of the individual whose image appear on it is Benjamin Franklin')\n",
    "else:\n",
    "    print('Such note does not exist') "
   ]
  },
  {
   "cell_type": "code",
   "execution_count": 17,
   "id": "09afb5b5",
   "metadata": {},
   "outputs": [
    {
     "name": "stdout",
     "output_type": "stream",
     "text": [
      "Enter month of choice in full: July\n",
      "Enter date: 1\n",
      "It is Canada Day\n"
     ]
    }
   ],
   "source": [
    "#Exercise 45: Date to Holiday Name\n",
    "newYearDay = ['January', 1]\n",
    "canadaDay = ['July', 1]\n",
    "christmasDay = ['December', 25]\n",
    "daysofHolidays = [['January', 1] ,['July', 1], ['December', 25]]\n",
    "userinput1 = str(input('Enter month of choice in full: '))\n",
    "userinput2 = int(input('Enter date: '))\n",
    "userinput3 = [userinput1,userinput2]\n",
    "if userinput3 == newYearDay:\n",
    "    print('It is New Year Day')\n",
    "elif userinput3 == canadaDay:\n",
    "    print('It is Canada Day')\n",
    "elif userinput3 == christmasDay:\n",
    "    print('It is Christmas Day')\n",
    "else:\n",
    "    print('It is not a fixed day for holiday')"
   ]
  },
  {
   "cell_type": "code",
   "execution_count": 20,
   "id": "3499ad4e",
   "metadata": {},
   "outputs": [
    {
     "name": "stdout",
     "output_type": "stream",
     "text": [
      "Enter column and row as one word: b9\n",
      "It is white\n"
     ]
    }
   ],
   "source": [
    "#Exercise 46:What Color Is That Square?\n",
    "blackspots = ['a1','a3','a5','a7','b2','b4','b6','b8','c1','c3','c5','c7','d2','d4','d6','d8','e1','e3','e5','e7','f2','f4','f6','f8','g1','g3','g5','g7','h2','h4','h6','h8',]\n",
    "whitespots = ['a2','a4','a6','a8','b1','b3','b5','b7','c2','c4','c6','c8','d1','d3','d5','d7','e2','e4','e6','e8','f1','f3','f5','f7','g2','g4','g6','g8','h1','h3','h5','h7']\n",
    "userinput = str(input('Enter column and row as one word: '))\n",
    "if userinput in blackspots:\n",
    "    print('It is black')\n",
    "else:\n",
    "    print('It is white')"
   ]
  },
  {
   "cell_type": "code",
   "execution_count": 21,
   "id": "f0f920b1",
   "metadata": {},
   "outputs": [
    {
     "name": "stdout",
     "output_type": "stream",
     "text": [
      "Enter a month in full: December\n",
      "Enter date from 1-31: 27\n",
      "The season is fall\n"
     ]
    }
   ],
   "source": [
    "#Exercise 47: Season from Month and Day\n",
    "import numpy as np\n",
    "spring1 = ['March','June','April','May']\n",
    "np.arange(1,31)\n",
    "Day = np.arange(1,32)\n",
    "#np.arange(1,21)\n",
    "#Day2 = np.arange(1,21)\n",
    "summer1 = ['June','September','July','August']\n",
    "fall = ['september','October','November','December']\n",
    "winter = ['December','January','February','March']\n",
    "userinput1 = str(input('Enter a month in full: '))\n",
    "userinput2 = int(input('Enter date from 1-31: '))\n",
    "if userinput1 in spring1 and userinput2 in Day:\n",
    "    print('The season is spring')\n",
    "elif userinput1 in summer1 and userinput2 in Day:\n",
    "    print('The season is summer')\n",
    "elif userinput1 in fall and userinput2 in Day :\n",
    "    print('The season is fall')\n",
    "else:\n",
    "    print('The season is winter')\n"
   ]
  },
  {
   "cell_type": "code",
   "execution_count": null,
   "id": "9151bc02",
   "metadata": {},
   "outputs": [],
   "source": []
  },
  {
   "cell_type": "code",
   "execution_count": 25,
   "id": "909a9e8e",
   "metadata": {},
   "outputs": [
    {
     "name": "stdout",
     "output_type": "stream",
     "text": [
      "Enter a year: 9\n",
      "The zodiac animal is Snake\n"
     ]
    }
   ],
   "source": [
    "#Exercise 49: Chinese Zodiac\n",
    "Dragon = np.arange(-4,6000,12)\n",
    "Snake = np.arange(-3,6000,12)\n",
    "Horse = np.arange(-2,6000,12)\n",
    "Sheep = np.arange(-1,6000,12)\n",
    "Monkey = np.arange(0,6000,12)\n",
    "Rooster = np.arange(1,6000,12)\n",
    "Dog = np.arange(2,6000,12)\n",
    "Pig = np.arange(3,6000,12)\n",
    "Rat = np.arange(4,6000,12)\n",
    "Ox = np.arange(5,6000,12)\n",
    "Tiger = np.arange(6,6000,12)\n",
    "Hare = np.arange(7,6000,12) \n",
    "userinput = int(input('Enter a year: '))\n",
    "if userinput in Dragon:\n",
    "    print('The zodiac animal is Dragon')\n",
    "elif userinput in Snake:\n",
    "    print('The zodiac animal is Snake')\n",
    "elif userinput in Horse:\n",
    "    print('The zodiac animal is Horse')\n",
    "elif userinput in Sheep:\n",
    "    print('The zodiac animal is Sheep')\n",
    "elif userinput in Monkey:\n",
    "    print('The zodiac animal is Monkey')\n",
    "elif userinput in Rooster:\n",
    "    print('The zodiac animal is Rooster')\n",
    "elif userinput in Dog:\n",
    "    print('The zodiac animal is Dog')\n",
    "elif userinput in Pig:\n",
    "    print('The zodiac animal is Pig')\n",
    "elif userinput in Rat:\n",
    "    print('The zodiac animal is Rat')\n",
    "elif userinput in Ox:\n",
    "    print('The zodiac animal is Ox')\n",
    "elif userinput in Tiger:\n",
    "    print('The zodiac animal is Tiger')\n",
    "elif userinput in Hare:\n",
    "    print('The zodiac animal is Hare')"
   ]
  },
  {
   "cell_type": "code",
   "execution_count": 35,
   "id": "f62f0028",
   "metadata": {},
   "outputs": [
    {
     "name": "stdout",
     "output_type": "stream",
     "text": [
      "Enter the magnitude of the Earthquake: 10\n",
      "The earthquake is Meteoric\n"
     ]
    }
   ],
   "source": [
    "#Exercise 50: Richter Scale\n",
    "import numpy as np\n",
    "Micro = np.arange(0,2.0,.1)\n",
    "veryminor = np.arange(2,3,.1)\n",
    "Minor = np.arange(3,4,.1)\n",
    "Light = np.arange(4.0,5.0,.1)\n",
    "Moderate = np.arange(5.0,6.0,.1)\n",
    "Strong = np.arange(6.0,7.0,.1)\n",
    "Major = np.arange(7.0,8.0,.1)\n",
    "Great = np.arange(8.0,10.0,.1)\n",
    "Meteoric = np.arange(10.0,1000,.1)\n",
    "userinput = float(input('Enter the magnitude of the Earthquake: '))\n",
    "userinput =int(userinput)\n",
    "if userinput in Micro:\n",
    "    print('The earthquake is Micro')\n",
    "elif userinput in veryminor:\n",
    "    print('The earthquake is Very Minor')\n",
    "elif userinput in Minor:\n",
    "    print('The earthquake is Minor')\n",
    "elif userinput in Light:\n",
    "    print('The earthquake is Light')\n",
    "elif userinput in Moderate:\n",
    "    print('The earthquake is Moderate')\n",
    "elif userinput in Strong:\n",
    "    print('The earthquake is Strong')\n",
    "elif userinput in Major:\n",
    "    print('The earthquake is Major')\n",
    "elif userinput in Great:\n",
    "    print('The earthquake is Great')\n",
    "#if userinput >= 10:\n",
    "else:\n",
    "    print('The earthquake is Meteoric')"
   ]
  },
  {
   "cell_type": "code",
   "execution_count": 36,
   "id": "647a64e6",
   "metadata": {},
   "outputs": [
    {
     "name": "stdout",
     "output_type": "stream",
     "text": [
      "Enter a value for a: 1\n",
      "Enter a value for b: 2\n",
      "Enter a value for c: 6\n",
      "It has no real root\n"
     ]
    },
    {
     "ename": "ValueError",
     "evalue": "math domain error",
     "output_type": "error",
     "traceback": [
      "\u001b[1;31m---------------------------------------------------------------------------\u001b[0m",
      "\u001b[1;31mValueError\u001b[0m                                Traceback (most recent call last)",
      "\u001b[1;32m<ipython-input-36-ee05a38f717f>\u001b[0m in \u001b[0;36m<module>\u001b[1;34m\u001b[0m\n\u001b[0;32m     13\u001b[0m     \u001b[0mprint\u001b[0m\u001b[1;33m(\u001b[0m\u001b[1;34m'It has two real roots'\u001b[0m\u001b[1;33m)\u001b[0m\u001b[1;33m\u001b[0m\u001b[1;33m\u001b[0m\u001b[0m\n\u001b[0;32m     14\u001b[0m \u001b[1;33m\u001b[0m\u001b[0m\n\u001b[1;32m---> 15\u001b[1;33m \u001b[0mE\u001b[0m \u001b[1;33m=\u001b[0m \u001b[0mmath\u001b[0m\u001b[1;33m.\u001b[0m\u001b[0msqrt\u001b[0m\u001b[1;33m(\u001b[0m\u001b[0mD\u001b[0m\u001b[1;33m)\u001b[0m\u001b[1;33m\u001b[0m\u001b[1;33m\u001b[0m\u001b[0m\n\u001b[0m\u001b[0;32m     16\u001b[0m \u001b[0mF1\u001b[0m \u001b[1;33m=\u001b[0m \u001b[1;33m-\u001b[0m\u001b[1;33m(\u001b[0m\u001b[0minputb\u001b[0m\u001b[1;33m)\u001b[0m \u001b[1;33m+\u001b[0m \u001b[0mE\u001b[0m\u001b[1;33m\u001b[0m\u001b[1;33m\u001b[0m\u001b[0m\n\u001b[0;32m     17\u001b[0m \u001b[0mF2\u001b[0m \u001b[1;33m=\u001b[0m \u001b[1;33m-\u001b[0m\u001b[1;33m(\u001b[0m\u001b[0minputb\u001b[0m\u001b[1;33m)\u001b[0m \u001b[1;33m-\u001b[0m \u001b[0mE\u001b[0m\u001b[1;33m\u001b[0m\u001b[1;33m\u001b[0m\u001b[0m\n",
      "\u001b[1;31mValueError\u001b[0m: math domain error"
     ]
    }
   ],
   "source": [
    "#Exercise 51: Roots of a Quadratic Function\n",
    "import math\n",
    "inputa = int(input('Enter a value for a: '))\n",
    "inputb = int(input('Enter a value for b: '))\n",
    "inputc = int(input('Enter a value for c: '))\n",
    "D = (inputb)**2 - (4*inputa*inputc)\n",
    "\n",
    "if D < 0:\n",
    "    print('It has no real root')\n",
    "elif D == 0:\n",
    "    print('It has one real root')\n",
    "else:\n",
    "    print('It has two real roots')\n",
    "\n",
    "E = math.sqrt(D)\n",
    "F1 = -(inputb) + E\n",
    "F2 = -(inputb) - E\n",
    "A = (inputa)*2\n",
    "G1 = F1/A\n",
    "G2 = F2/A\n",
    "print(G1)\n",
    "print(G2)"
   ]
  },
  {
   "cell_type": "code",
   "execution_count": 38,
   "id": "e99a4a8f",
   "metadata": {},
   "outputs": [
    {
     "name": "stdout",
     "output_type": "stream",
     "text": [
      "Enter your grade: A\n",
      "The grade point is 4\n"
     ]
    }
   ],
   "source": [
    "#Exercise 52: Letter Grade to Grade Points\n",
    "f1 = ['A+',4.0]\n",
    "f2 = ['A',4.0]\n",
    "f3 = ['A-',3.7]\n",
    "f4 = ['B+',3.3]\n",
    "f5 = ['B',3.0]\n",
    "f6 = ['B-',2.7]\n",
    "f7 = ['C+',2.3]\n",
    "f8 = ['C',2.0]\n",
    "f9 = ['C-',1.7]\n",
    "f10 = ['D+',1.3]\n",
    "f11 = ['D',1.0]\n",
    "f12 = ['F', 0]\n",
    "error = ['E','G','H','I','J','K','L','M','N','O','P','Q','R','S','T','U','V','W','X','Y','Z']\n",
    "userinput = str(input('Enter your grade: '))\n",
    "if userinput in f1:\n",
    "    print('The grade point is 4')\n",
    "elif userinput in f2:\n",
    "    print('The grade point is 4')\n",
    "elif userinput in f3:\n",
    "    print('The grade point is 3.7')\n",
    "elif userinput in f4:\n",
    "    print('The grade point is 3.3')\n",
    "elif userinput in f5:\n",
    "    print('The grade point is 3.0')\n",
    "elif userinput in f6:\n",
    "    print('The grade point is 2.7')\n",
    "elif userinput in f7:\n",
    "    print('The grade point is 2.3')\n",
    "elif userinput in f8:\n",
    "    print('The grade point is 2.0')\n",
    "elif userinput in f9:\n",
    "    print('The grade point is 1.7')\n",
    "elif userinput in f10:\n",
    "    print('The grade point is 1.3')\n",
    "elif userinput in f11:\n",
    "    print('The grade point is 1.0')\n",
    "elif userinput in f12:\n",
    "    print('The grade point is 0')\n",
    "else:\n",
    "    print('Enter a valid grade alphabet')"
   ]
  },
  {
   "cell_type": "code",
   "execution_count": 44,
   "id": "ec48c244",
   "metadata": {},
   "outputs": [
    {
     "name": "stdout",
     "output_type": "stream",
     "text": [
      "Enter your grade point: 1.2\n",
      "The grade is D\n"
     ]
    }
   ],
   "source": [
    "#Exercise 53: Grade Points to Letter Grade\n",
    "f1 = ['A+',4.1,4.2,4.3,4.4,4.5,4.6,4.7,4.8,4.9,5.0]\n",
    "f2 = ['A',4.0]\n",
    "f3 = ['A-',3.7,3.8,3.9]\n",
    "f4 = ['B+',3.3,3.4,3.5,3.6]\n",
    "f5 = ['B',3.0,3.1,3.2]\n",
    "f6 = ['B-',2.7,2.8,2.9]\n",
    "f7 = ['C+',2.3,2.4,2.5,2.6]\n",
    "f8 = ['C',2.0,2.1,2.2]\n",
    "f9 = ['C-',1.7,1.8,1.9]\n",
    "f10 = ['D+',1.3,1.4,1.5,1.6]\n",
    "f11 = ['D',1.0,1,1,1.2]\n",
    "f12 = ['F', 0,0.9,0.8,0.7,0.6,0.5,0.4,0.3,0.2,0.1]\n",
    "error = ['E','G','H','I','J','K','L','M','N','O','P','Q','R','S','T','U','V','W','X','Y','Z']\n",
    "userinput = float(input('Enter your grade point: '))\n",
    "if userinput > 4:\n",
    "    print('The grade is A+')\n",
    "elif userinput in f2:\n",
    "    print('The grade is A')\n",
    "elif userinput in f3:\n",
    "    print('The grade is A-')\n",
    "elif userinput in f4:\n",
    "    print('The grade is B+')\n",
    "elif userinput in f5:\n",
    "    print('The grade is B')\n",
    "elif userinput in f6:\n",
    "    print('The grade is B-')\n",
    "elif userinput in f7:\n",
    "    print('The grade is C+')\n",
    "elif userinput in f8:\n",
    "    print('The grade is C')\n",
    "elif userinput in f9:\n",
    "    print('The grade is C-')\n",
    "elif userinput in f10:\n",
    "    print('The grade is D+')\n",
    "elif userinput in f11:\n",
    "    print('The grade is D')\n",
    "else:\n",
    "#if userinput in f12:\n",
    "    print('The grade is F')"
   ]
  },
  {
   "cell_type": "code",
   "execution_count": 47,
   "id": "47f7c594",
   "metadata": {},
   "outputs": [
    {
     "name": "stdout",
     "output_type": "stream",
     "text": [
      "Enter performace rating: 0.5\n",
      "Invalid performance rating\n"
     ]
    }
   ],
   "source": [
    "#Exercise 54: Assessing Employees\n",
    "amount = 2400\n",
    "unacceptable = 0.0\n",
    "acceptable = 0.4\n",
    "meritorious = 0.6\n",
    "userinput = float(input('Enter performace rating: '))\n",
    "if userinput == unacceptable:\n",
    "    print('Unacceptable performace no bonus')\n",
    "elif userinput == acceptable:\n",
    "    print('Acceptable performane, your bonus is', amount*userinput)\n",
    "elif userinput == meritorious:\n",
    "    print('Meritorious performance, your bonus is', amount*userinput)\n",
    "elif userinput > 0.6:\n",
    "    print('Meritorious performance, your bonus is', amount*userinput)\n",
    "else:\n",
    "    print('Invalid performance rating')"
   ]
  },
  {
   "cell_type": "code",
   "execution_count": 50,
   "id": "d0ed3652",
   "metadata": {},
   "outputs": [
    {
     "name": "stdout",
     "output_type": "stream",
     "text": [
      "Enter a wavelength range: 800\n",
      "Invalid wavelength\n"
     ]
    }
   ],
   "source": [
    "#Exercise 55:Wavelengths of Visible Light\n",
    "import numpy as np\n",
    "np.arange(380,450)\n",
    "violet = (np.arange(380,450))\n",
    "np.arange(450,495)\n",
    "blue = (np.arange(450,495))\n",
    "np.arange(495,570)\n",
    "green = (np.arange(495,570))\n",
    "np.arange(570,590)\n",
    "yellow = (np.arange(570,590))\n",
    "np.arange(590,620)\n",
    "orange = (np.arange(590,620))\n",
    "np.arange(620,751)\n",
    "red = (np.arange(620,751))\n",
    "userinput = int(input('Enter a wavelength range: '))\n",
    "if userinput in violet:\n",
    "    print('The color of the wavelength is violet')\n",
    "elif userinput in blue:\n",
    "    print('The color of the wavelength is blue')\n",
    "elif userinput in green:\n",
    "    print('The color of the wavelength is green')\n",
    "elif userinput in yellow:\n",
    "    print('The color of the wavelength is yellow')\n",
    "elif userinput in orange:\n",
    "    print('The color of the wavelength is orange')\n",
    "elif userinput in red:\n",
    "    print('The color of the wavelength is red')\n",
    "else:\n",
    "    print('Invalid wavelength')"
   ]
  },
  {
   "cell_type": "code",
   "execution_count": 51,
   "id": "6c646d6b",
   "metadata": {},
   "outputs": [
    {
     "name": "stdout",
     "output_type": "stream",
     "text": [
      "Enter the duration of call minutes: 45\n",
      "Enter the number of text messages: 20\n",
      "The base charge is 15.00, the 911 charge is 0.44 your tax amount is 0.75 your total bill is:  16.19\n"
     ]
    }
   ],
   "source": [
    "#Exercise 57: Cell Phone Bill\n",
    "normalCharge4callandtext = 15.00\n",
    "addmincallrate = 0.25\n",
    "addtextrate = 0.15\n",
    "addcharge = 0.44\n",
    "normalmincall = 50\n",
    "normaltext = 50\n",
    "salestaxrate = 0.05\n",
    "userinputcall = int(input('Enter the duration of call minutes: '))\n",
    "userinputtext = int(input('Enter the number of text messages: '))\n",
    "addcall = userinputcall - normalmincall\n",
    "addcallamount = addcall*addmincallrate\n",
    "totaladdcallamount = normalCharge4callandtext + addcallamount\n",
    "addtext = userinputtext - normaltext\n",
    "addtextamount = addtext*addtextrate\n",
    "#1 was used for case 1 where call duration and text were greater than 50\n",
    "#2 was used for case 2 where call duration was greater than 50 and text was less than 50\n",
    "#3 was used for case 3 where call duration was less than 50 and text was greater than 50\n",
    "#4 was used for case 4 where call duration and text were less than 50\n",
    "total1 = normalCharge4callandtext + addcallamount + addtextamount\n",
    "total2 = normalCharge4callandtext + addcallamount\n",
    "total3 = normalCharge4callandtext + addtextamount\n",
    "total4 = normalCharge4callandtext\n",
    "salestax1 = salestaxrate*total1\n",
    "salestax2 = salestaxrate*total2\n",
    "salestax3 = salestaxrate*total3\n",
    "salestax4 = salestaxrate*total4\n",
    "totalamount1 = total1 + salestax1 + addcharge\n",
    "totalamount2 = total2 + salestax2 + addcharge\n",
    "totalamount3 = total3 + salestax3 + addcharge\n",
    "totalamount4 = total4 + salestax4 + addcharge\n",
    "if userinputcall > 50 and userinputtext > 50:\n",
    "    print('The base charge is 15.00, the additional call charge is', addcallamount, 'the additional text charge is', addtextamount, 'the 911 charge is', addcharge,'your tax amount is', salestax1, 'your total bill is: ', totalamount1)\n",
    "elif userinputcall > 50 and userinputtext < 50:\n",
    "    print('The base charge is 15.00, the additional call charge is', addcallamount, 'the 911 charge is', addcharge,'your tax amount is', salestax2, 'your total bill is: ', totalamount2)\n",
    "elif userinputcall < 50 and userinputtext > 50:\n",
    "    print('The base charge is 15.00, the additional text charge is', addtextamount, 'the 911 charge is', addcharge,'your tax amount is', salestax3, 'your total bill is: ', totalamount3)\n",
    "#if userinputcall < 50 and userinputtext < 50:\n",
    "else:\n",
    "    print('The base charge is 15.00, the 911 charge is', addcharge,'your tax amount is', salestax4, 'your total bill is: ', totalamount4)"
   ]
  },
  {
   "cell_type": "code",
   "execution_count": null,
   "id": "e2e28140",
   "metadata": {},
   "outputs": [],
   "source": [
    "#Exercise 58: Is It a Leap Year?\n",
    "LP1 = 400\n",
    "NLP = 100\n",
    "LP2 = 4\n",
    "userinput = int(input('Enter any year of choice: '))\n",
    "D = userinput/LP1\n",
    "E = userinput/NLP\n",
    "F = userinput/LP2\n",
    "if D%400 == 0:\n",
    "    print('It is a leap year')\n",
    "elif E%100 == 0:\n",
    "    print('It is not a leap year')\n",
    "elif F%4 == 0:\n",
    "    print('It is a leap year')\n",
    "else:\n",
    "    print('It is not a leap year')"
   ]
  },
  {
   "cell_type": "code",
   "execution_count": 53,
   "id": "30d958a2",
   "metadata": {},
   "outputs": [
    {
     "name": "stdout",
     "output_type": "stream",
     "text": [
      "Enter the year of choice: 1993\n",
      "Enter the month of choice in number: 11\n",
      "Enter the day of choice in number: 19\n",
      "The next day is 1993 - 11 - 20\n"
     ]
    }
   ],
   "source": [
    "#Exercise 59: Next Day\n",
    "Month30 = [4,6,9,11]\n",
    "Month31 = [1,3,5,7,8,10]\n",
    "userinputy = int(input('Enter the year of choice: '))\n",
    "userinputm = int(input('Enter the month of choice in number: '))\n",
    "userinputd = int(input('Enter the day of choice in number: '))\n",
    "if userinputm in Month30 and userinputd == 30:\n",
    "    print('The next day is', userinputy,'-',userinputm+1,'-',1)\n",
    "elif userinputm in Month31 and userinputd == 31:\n",
    "    print('The next day is', userinputy,'-', userinputm+1,'-',1)\n",
    "elif userinputm == 12 and userinputd == 31:\n",
    "    print('The next day is', userinputy+1,'-',1,'-',1)\n",
    "elif userinputm in Month30 and userinputd != 30:\n",
    "    print('The next day is', userinputy,'-',userinputm,'-',userinputd+1)\n",
    "elif userinputm in Month31 and userinputd != 31:\n",
    "    print('The next day is', userinputy,'-',userinputm,'-',userinputd+1)\n",
    "elif userinputm == 12 and userinputd != 31:\n",
    "    print('The next day is', userinputy,'-',userinputm,'-',userinputd+1)\n",
    "elif userinputm == 2 and userinputy%400 == 0 and userinputd == 28:\n",
    "    print('The next day is', userinputy,'-',userinputm+1,'-',1)\n",
    "elif userinputm == 2 and userinputy%400 == 0 and userinputd != 28:\n",
    "    print('The next day is', userinputy,'-',userinputm+1,'-',userinputd+1)\n",
    "elif userinputm == 2 and userinputy%400 != 0 and userinputd == 29:\n",
    "    print('The next day is', userinputy,'-',userinputm+1,'-',1)\n",
    "elif userinputm == 2 and userinputy%400 != 0 and userinputd != 29:\n",
    "    print('The next day is', userinputy,'-',userinputm,'-',userinputd+1)"
   ]
  },
  {
   "cell_type": "code",
   "execution_count": null,
   "id": "41a22fe5",
   "metadata": {},
   "outputs": [],
   "source": [
    "#Exercise 60:What Day of the Week Is January 1?\n",
    "userinput = int(input('Enter your year of choice: '))\n",
    "A = (userinput-1)//4\n",
    "B = (userinput-1)//100\n",
    "C = (userinput-1)//400\n",
    "D = (userinput + A - B + C)%7\n",
    "if D == 0:\n",
    "    print(D,'The day of the week is Sunday')\n",
    "elif D == 1:\n",
    "    print(D,'The day of the week is Monday')\n",
    "elif D == 2:\n",
    "    print(D,'The day of the week is Tuesday')\n",
    "elif D == 3:\n",
    "    print(D,'The day of the week is Wednesday')\n",
    "elif D == 4:\n",
    "    print(D,'The day of the week is Thursday')\n",
    "elif D == 5:\n",
    "    print(D,'The day of the week is Friday')\n",
    "elif D == 6:\n",
    "    print(D,'The day of the week is Saturday')"
   ]
  },
  {
   "cell_type": "code",
   "execution_count": null,
   "id": "cc0e79a7",
   "metadata": {},
   "outputs": [],
   "source": [
    "#Exercise 61: Is a License Plate Valid?\n",
    "Alphabet = ['A','B','C','D','E','F','G','H','I','J','K','L','M','N','O','P','Q','R','S','T','U','V','W','X','Y','Z']\n",
    "Number = ['0','1','2','3','4','5','6','7','8','9']\n",
    "user_input = list(input('Enter your code alphabets in uppercase: '))\n",
    "\n",
    "\n",
    "if set(user_input[:3]).issubset(set(Alphabet)) and set(user_input[3:6]).issubset(set(Number)):\n",
    "    print('Valid for old style license')\n",
    "elif set(user_input[:4]).issubset(set(Number)) and set(user_input[4:7]).issubset(set(Alphabet)):\n",
    "    print('Valid for new style license')\n",
    "else:\n",
    "    print('Error, not valid for either license style')"
   ]
  }
 ],
 "metadata": {
  "kernelspec": {
   "display_name": "Python 3",
   "language": "python",
   "name": "python3"
  },
  "language_info": {
   "codemirror_mode": {
    "name": "ipython",
    "version": 3
   },
   "file_extension": ".py",
   "mimetype": "text/x-python",
   "name": "python",
   "nbconvert_exporter": "python",
   "pygments_lexer": "ipython3",
   "version": "3.8.8"
  }
 },
 "nbformat": 4,
 "nbformat_minor": 5
}
