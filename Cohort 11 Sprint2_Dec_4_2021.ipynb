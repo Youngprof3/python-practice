{
 "cells": [
  {
   "cell_type": "code",
   "execution_count": null,
   "id": "113744a2",
   "metadata": {},
   "outputs": [],
   "source": [
    "#VARIABLES TYPES\n",
    "\n",
    "tupules\n",
    "list\n",
    "array\n",
    "sets\n",
    "dictionaries\n",
    "functions\n"
   ]
  },
  {
   "cell_type": "markdown",
   "id": "8d448bfa",
   "metadata": {},
   "source": [
    "#Variable types\n",
    "\n",
    "A **value** is a piece of data that a computer program works with such as a number or text. There are different **types** of values: `42` is an integer and `\"Hello!\"` is a string. A **variable** is a name that refers to a value. In mathematics and statistics, we usually use variable names like $x$ and $y$. In Python, we can use any word as a variable name as long as it starts with a letter or an underscore. However, it should not be a [reserved word](https://docs.python.org/3.3/reference/lexical_analysis.html#keywords) in Python such as `for`, `while`, `class`, `lambda`, etc. as these words encode special functionality in Python that we don't want to overwrite!\n",
    "\n",
    "It can be helpful to think of a variable as a box that holds some information (a single number, a vector, a string, etc). We use the **assignment operator** `=` to assign a value to a variable.\n",
    "\n",
    "![](img/chapter1/box.png)\n",
    "\n",
    "Image modified from: [medium.com](https://www.google.com/url?sa=i&url=https%3A%2F%2Fmedium.com%2F%40stevenpcurtis.sc%2Fwhat-is-a-variable-3447ac1331b9&psig=AOvVaw3YbYfgb7XFOJ_sHP5eliob&ust=1595365663851000&source=images&cd=vfe&ved=0CA0QjhxqFwoTCMi8nrfe3OoCFQAAAAAdAAAAABAZ)\n",
    "\n",
    "```{tip}\n",
    "See the [Python 3 documentation](https://docs.python.org/3/library/stdtypes.html) for a summary of the standard built-in Python datatypes.\n",
    "```"
   ]
  },
  {
   "cell_type": "code",
   "execution_count": 22,
   "id": "2fe6b1a9",
   "metadata": {},
   "outputs": [
    {
     "data": {
      "text/plain": [
       "list"
      ]
     },
     "execution_count": 22,
     "metadata": {},
     "output_type": "execute_result"
    }
   ],
   "source": [
    "# LISTS"
   ]
  },
  {
   "cell_type": "code",
   "execution_count": 24,
   "id": "994bc895",
   "metadata": {},
   "outputs": [],
   "source": [
    "# add items to a list\n",
    "\n",
    "age1 = 20\n",
    "age2 = 30\n",
    "age3 = 50\n",
    "name1 = 'terry'\n",
    "name2 = 'Tunde'\n",
    "name3 = 'Mary'"
   ]
  },
  {
   "cell_type": "code",
   "execution_count": 32,
   "id": "44e05ced",
   "metadata": {},
   "outputs": [],
   "source": [
    "#######mylist5 = ['mary',50,'terry',20,'tunde',30] WRONG\n",
    "\n",
    "ageList = [20,30,50]\n",
    "nameList = ['terry','Tunde','Mary']"
   ]
  },
  {
   "cell_type": "code",
   "execution_count": 33,
   "id": "0bb0bc70",
   "metadata": {},
   "outputs": [
    {
     "name": "stdout",
     "output_type": "stream",
     "text": [
      "terry 20\n",
      "Tunde 30\n",
      "Mary 50\n"
     ]
    }
   ],
   "source": [
    "# Let us use two dynamic variables name and age to hold the temprary values from our itirations of the list\n",
    "for n,a in zip(nameList,ageList):\n",
    "    print(n, a)"
   ]
  },
  {
   "cell_type": "code",
   "execution_count": 46,
   "id": "d2c71d85",
   "metadata": {},
   "outputs": [
    {
     "name": "stdout",
     "output_type": "stream",
     "text": [
      "terry 20\n",
      "terry 30\n",
      "terry 50\n",
      "Tunde 20\n",
      "Tunde 30\n",
      "Tunde 50\n",
      "Mary 20\n",
      "Mary 30\n",
      "Mary 50\n"
     ]
    }
   ],
   "source": [
    "nameList,ageList\n",
    "for vals in nameList:\n",
    "    for item in ageList:\n",
    "        print(vals, item)"
   ]
  },
  {
   "cell_type": "code",
   "execution_count": 30,
   "id": "0c1546d0",
   "metadata": {},
   "outputs": [
    {
     "name": "stdout",
     "output_type": "stream",
     "text": [
      "20 0\n",
      "30 1\n",
      "50 2\n"
     ]
    }
   ],
   "source": [
    "# LOOPING THROUGH A LIST\n",
    "\n",
    "ageList = [20,30,50]\n",
    "\n",
    "for a in ageList:\n",
    "    print(a, ageList.index(a))\n"
   ]
  },
  {
   "cell_type": "code",
   "execution_count": 35,
   "id": "9536b1bf",
   "metadata": {},
   "outputs": [],
   "source": [
    "mylist4 = []"
   ]
  },
  {
   "cell_type": "code",
   "execution_count": null,
   "id": "a10036f8",
   "metadata": {},
   "outputs": [],
   "source": [
    "# use this to add items to a list .append()"
   ]
  },
  {
   "cell_type": "code",
   "execution_count": 43,
   "id": "a633ae09",
   "metadata": {},
   "outputs": [
    {
     "name": "stdout",
     "output_type": "stream",
     "text": [
      "1\n",
      "[20]\n"
     ]
    },
    {
     "data": {
      "text/plain": [
       "[20, 30, 50]"
      ]
     },
     "execution_count": 43,
     "metadata": {},
     "output_type": "execute_result"
    }
   ],
   "source": [
    "# add age to the list mylist4\n",
    "mylist4 = []\n",
    "age1 = 20\n",
    "age2 = 30\n",
    "age3 = 50\n",
    "\n",
    "\n",
    "mylist4.append(age1) # hard coding \n",
    "mylist4\n",
    "print(len(mylist4))\n",
    "print(mylist4)\n",
    "\n",
    "#appending the remaining two age items to the list\n",
    "\n",
    "mylist4.append(age2)\n",
    "mylist4.append(age3)\n",
    "\n",
    "'''mylist4.append((age2,age3))\n",
    "'''\n",
    "mylist4"
   ]
  },
  {
   "cell_type": "code",
   "execution_count": 45,
   "id": "423529f9",
   "metadata": {},
   "outputs": [
    {
     "data": {
      "text/plain": [
       "6"
      ]
     },
     "execution_count": 45,
     "metadata": {},
     "output_type": "execute_result"
    }
   ],
   "source": [
    "#len()\n",
    "l1= [2,4,5,6,7,8]\n",
    "len(l1)"
   ]
  },
  {
   "cell_type": "code",
   "execution_count": 64,
   "id": "b3ee5684",
   "metadata": {},
   "outputs": [
    {
     "name": "stdout",
     "output_type": "stream",
     "text": [
      "[20, 30, 50]\n",
      "[20, 30, 50, 'terry', 'Tunde', 'Mary', 'terry', 'Tunde', 'Mary']\n"
     ]
    }
   ],
   "source": [
    "# merge or concat two lists use extend()\n",
    "nameList = ['terry','Tunde','Mary']\n",
    "ageListx = [20,30,50]\n",
    "print(ageListx)\n",
    "ageListx.extend(nameList)\n",
    "#newlist = ageListx #.extend(nameList)\n",
    "(ageListx.extend(nameList))#.extend(nameList)\n",
    "#ageListx.extend(nameList)\n",
    "print(ageListx)"
   ]
  },
  {
   "cell_type": "code",
   "execution_count": null,
   "id": "d1be91d4",
   "metadata": {},
   "outputs": [],
   "source": []
  },
  {
   "cell_type": "code",
   "execution_count": 65,
   "id": "71384183",
   "metadata": {},
   "outputs": [
    {
     "name": "stdout",
     "output_type": "stream",
     "text": [
      "[20, 30, 50]\n"
     ]
    }
   ],
   "source": [
    "# merge or concat two lists use extend()\n",
    "nameList = ['terry','Tunde','Mary']\n",
    "ageListx = [20,30,50]\n",
    "print(ageListx)\n",
    "ageListx.extend(nameList)"
   ]
  },
  {
   "cell_type": "code",
   "execution_count": null,
   "id": "ad7f57f4",
   "metadata": {},
   "outputs": [],
   "source": [
    "nameList = ['terry','Tunde','Mary']"
   ]
  },
  {
   "cell_type": "code",
   "execution_count": 68,
   "id": "5b3c4544",
   "metadata": {},
   "outputs": [
    {
     "name": "stdout",
     "output_type": "stream",
     "text": [
      "terry\n",
      "Tunde\n"
     ]
    }
   ],
   "source": [
    "# using index positions to access the contrents of a list\n",
    "\n",
    "#list indexing/slicing\n",
    "\n",
    "print(nameList[0])\n",
    "print(nameList[1])"
   ]
  },
  {
   "cell_type": "code",
   "execution_count": null,
   "id": "a4228453",
   "metadata": {},
   "outputs": [],
   "source": [
    "# find the index position of this item 'mary' in the list"
   ]
  },
  {
   "cell_type": "code",
   "execution_count": null,
   "id": "d6551e94",
   "metadata": {},
   "outputs": [],
   "source": [
    ".index()"
   ]
  },
  {
   "cell_type": "code",
   "execution_count": 71,
   "id": "328236aa",
   "metadata": {},
   "outputs": [
    {
     "name": "stdout",
     "output_type": "stream",
     "text": [
      "3\n"
     ]
    }
   ],
   "source": [
    "nameList.index('Mary')\n",
    "print(len(nameList))"
   ]
  },
  {
   "cell_type": "code",
   "execution_count": 74,
   "id": "6f9a4c41",
   "metadata": {},
   "outputs": [
    {
     "name": "stdout",
     "output_type": "stream",
     "text": [
      "['tiger', 'lion', 'leopard']\n",
      "['cat', 'dog', 'parrot', 'tiger', 'lion', 'leopard']\n"
     ]
    }
   ],
   "source": [
    "# EXTEND function allows us to merge two lists to obtain a bigger list\n",
    "l1 = ['cat','dog','parrot']\n",
    "l2 = ['tiger','lion','leopard']\n",
    "\n",
    "l1.extend(l2)\n",
    "#l2.extend(l1)\n",
    "print(l2)\n",
    "print(l1)\n"
   ]
  },
  {
   "cell_type": "code",
   "execution_count": 75,
   "id": "31533875",
   "metadata": {},
   "outputs": [
    {
     "name": "stdout",
     "output_type": "stream",
     "text": [
      "the value of i now is:  cat\n",
      "l2 now has the following contents:  ['tiger', 'lion', 'leopard', 'cat']\n",
      "the value of i now is:  dog\n",
      "l2 now has the following contents:  ['tiger', 'lion', 'leopard', 'cat', 'dog']\n",
      "the value of i now is:  parrot\n",
      "l2 now has the following contents:  ['tiger', 'lion', 'leopard', 'cat', 'dog', 'parrot']\n"
     ]
    }
   ],
   "source": [
    "l1 = ['cat','dog','parrot']\n",
    "l2 = ['tiger','lion','leopard']\n",
    "\n",
    "\n",
    "for i in l1:\n",
    "    print('the value of i now is: ', i)\n",
    "    l2.append(i)\n",
    "    print('l2 now has the following contents: ', l2)\n",
    "\n",
    "    "
   ]
  },
  {
   "cell_type": "code",
   "execution_count": 83,
   "id": "17e31cd9",
   "metadata": {},
   "outputs": [
    {
     "name": "stdout",
     "output_type": "stream",
     "text": [
      "the value of i now is:  cat\n",
      "l2 now has the following contents:  ['tiger', 'lion', 'leopard', 'cat']\n",
      "This is the 1 i am going through through l1\n",
      "the value of i now is:  dog\n",
      "l2 now has the following contents:  ['tiger', 'lion', 'leopard', 'cat', 'dog']\n",
      "This is the 2 i am going through through l1\n",
      "the value of i now is:  parrot\n",
      "l2 now has the following contents:  ['tiger', 'lion', 'leopard', 'cat', 'dog', 'parrot']\n",
      "This is the 3 i am going through through l1\n",
      "Phew! I just got here finally\n"
     ]
    }
   ],
   "source": [
    "# Understanding how a for-loop works \n",
    "\n",
    "l1 = ['cat','dog','parrot']\n",
    "l2 = ['tiger','lion','leopard']\n",
    "\n",
    "counter = 1\n",
    "for i in l1:\n",
    "    print('the value of i now is: ', i)\n",
    "    l2.append(i)\n",
    "    print('l2 now has the following contents: ', l2)\n",
    "    print('This is the', counter , 'i am going through through l1')\n",
    "    counter = counter + 1\n",
    "print('Phew! I just got here finally')"
   ]
  },
  {
   "cell_type": "code",
   "execution_count": null,
   "id": "426fb651",
   "metadata": {},
   "outputs": [],
   "source": [
    "# Tuple\n",
    "# tuples are immutable. meaning we cannot change their size\n",
    "# tuples are represented with () notation"
   ]
  },
  {
   "cell_type": "code",
   "execution_count": 92,
   "id": "414b8942",
   "metadata": {},
   "outputs": [],
   "source": [
    "l1Tuple = ('cat','dog','parrot')\n",
    "l2Tuple = ('tiger','lion','leopard')\n",
    "\n",
    "type(l1Tuple)\n",
    "\n",
    "'''\n",
    "Tuples cannot be expanded in size because they represent constants in python\n",
    "But we can obtain new tuple from an existing tuple just by indexing and slicing\n",
    "'''\n",
    "#l1Tuple.append(l2Tuple)\n",
    "\n",
    "# to create a new tuple\n",
    "\n",
    "l3Tuple = l1Tuple[1:5]"
   ]
  },
  {
   "cell_type": "code",
   "execution_count": 94,
   "id": "689605ab",
   "metadata": {},
   "outputs": [
    {
     "data": {
      "text/plain": [
       "tuple"
      ]
     },
     "execution_count": 94,
     "metadata": {},
     "output_type": "execute_result"
    }
   ],
   "source": [
    "type(l1Tuple)"
   ]
  },
  {
   "cell_type": "code",
   "execution_count": 93,
   "id": "ed0c0a6d",
   "metadata": {},
   "outputs": [
    {
     "data": {
      "text/plain": [
       "('dog', 'parrot')"
      ]
     },
     "execution_count": 93,
     "metadata": {},
     "output_type": "execute_result"
    }
   ],
   "source": [
    "l3Tuple"
   ]
  },
  {
   "cell_type": "code",
   "execution_count": 89,
   "id": "1b30e170",
   "metadata": {},
   "outputs": [
    {
     "name": "stdout",
     "output_type": "stream",
     "text": [
      "tiger\n",
      "lion\n",
      "leopard\n"
     ]
    }
   ],
   "source": [
    "# looping through the contents of a tuple\n",
    "\n",
    "for items in l2Tuple:\n",
    "    print(items)"
   ]
  },
  {
   "cell_type": "code",
   "execution_count": 90,
   "id": "7941f078",
   "metadata": {},
   "outputs": [],
   "source": [
    "newlist = list(l1Tuple)"
   ]
  },
  {
   "cell_type": "code",
   "execution_count": 97,
   "id": "5a632d10",
   "metadata": {},
   "outputs": [
    {
     "name": "stdout",
     "output_type": "stream",
     "text": [
      "<class 'tuple'>\n",
      "<class 'list'>\n"
     ]
    }
   ],
   "source": [
    "l1Tuple = ('cat','dog','parrot')\n",
    "print(type(l1Tuple))\n",
    "l1Tuple = list(l1Tuple)  # list()\n",
    "print(type(l1Tuple))"
   ]
  },
  {
   "cell_type": "code",
   "execution_count": null,
   "id": "1fd49eae",
   "metadata": {},
   "outputs": [],
   "source": [
    "Grades = ('A+','A-','B+','B-','C','D','E')\n",
    "Scores =[50,80,95]"
   ]
  },
  {
   "cell_type": "code",
   "execution_count": 98,
   "id": "735b11c4",
   "metadata": {},
   "outputs": [
    {
     "name": "stdout",
     "output_type": "stream",
     "text": [
      "(56, 'female', 564.89)\n"
     ]
    }
   ],
   "source": [
    "age = 56\n",
    "gender = 'female'\n",
    "income = 564.89\n",
    "\n",
    "staffProfile = (age,gender,income)\n",
    "print(staffProfile)"
   ]
  },
  {
   "cell_type": "code",
   "execution_count": 100,
   "id": "11d7ff05",
   "metadata": {},
   "outputs": [
    {
     "name": "stdout",
     "output_type": "stream",
     "text": [
      "(56, 'female', 564.89)\n",
      "(56, 'female', 564.89)\n"
     ]
    }
   ],
   "source": [
    "age = 99\n",
    "\n",
    "print(staffProfile)\n",
    "gender = 'male'\n",
    "print(staffProfile)"
   ]
  },
  {
   "cell_type": "code",
   "execution_count": 102,
   "id": "15229a30",
   "metadata": {},
   "outputs": [
    {
     "name": "stdout",
     "output_type": "stream",
     "text": [
      "[56, 'female', 564.89]\n"
     ]
    }
   ],
   "source": [
    "age = 56\n",
    "gender = 'female'\n",
    "income = 564.89\n",
    "\n",
    "staffProfileList = [age,gender,income]\n",
    "print(staffProfileList)"
   ]
  },
  {
   "cell_type": "code",
   "execution_count": 103,
   "id": "857509de",
   "metadata": {},
   "outputs": [
    {
     "name": "stdout",
     "output_type": "stream",
     "text": [
      "[56, 'female', 564.89]\n"
     ]
    }
   ],
   "source": [
    "age = 78\n",
    "print(staffProfileList)"
   ]
  },
  {
   "cell_type": "code",
   "execution_count": 107,
   "id": "fe8e0a90",
   "metadata": {},
   "outputs": [
    {
     "name": "stdout",
     "output_type": "stream",
     "text": [
      "item found\n",
      "3\n"
     ]
    }
   ],
   "source": [
    "# Search for items in a list/tuple\n",
    "\n",
    "Grades = ('A+','A-','B+','B-','C','D','E')\n",
    "Scores =[50,80,95]\n",
    "\n",
    "#search for 'A-' in Grades\n",
    "\n",
    "# use the in syntax\n",
    "\n",
    "grade = 'B-'\n",
    "\n",
    "if grade in Grades:\n",
    "    print('item found')\n",
    "    print(Grades.index(grade))\n",
    "else:\n",
    "    print('item not found')\n"
   ]
  },
  {
   "cell_type": "code",
   "execution_count": 109,
   "id": "86cf9aa7",
   "metadata": {},
   "outputs": [
    {
     "name": "stdout",
     "output_type": "stream",
     "text": [
      "15\n"
     ]
    }
   ],
   "source": [
    "# STRINGS\n",
    "\n",
    "myname = 'Agatha Christie'\n",
    "country = \"Zambia\"\n",
    "\n",
    "# Use len() to get the length of the string just like in lists\n",
    "\n",
    "print(len(myname))"
   ]
  },
  {
   "cell_type": "code",
   "execution_count": 110,
   "id": "60a6d2d2",
   "metadata": {},
   "outputs": [
    {
     "data": {
      "text/plain": [
       "'Agatha'"
      ]
     },
     "execution_count": 110,
     "metadata": {},
     "output_type": "execute_result"
    }
   ],
   "source": [
    "# slice the string just like in lists\n",
    "#extracting the first name\n",
    "\n",
    "\n",
    "fname = myname[0:6]\n",
    "fname"
   ]
  },
  {
   "cell_type": "code",
   "execution_count": 111,
   "id": "4d6986cc",
   "metadata": {},
   "outputs": [
    {
     "name": "stdout",
     "output_type": "stream",
     "text": [
      "A\n",
      "g\n",
      "a\n",
      "t\n",
      "h\n",
      "a\n",
      " \n",
      "C\n",
      "h\n",
      "r\n",
      "i\n",
      "s\n",
      "t\n",
      "i\n",
      "e\n"
     ]
    }
   ],
   "source": [
    "# loop through a string:\n",
    "\n",
    "for char in myname:\n",
    "    print(char)"
   ]
  },
  {
   "cell_type": "code",
   "execution_count": 131,
   "id": "d14eb847",
   "metadata": {},
   "outputs": [
    {
     "name": "stdout",
     "output_type": "stream",
     "text": [
      "slice the string just like in lists\n",
      "['slice', 'the', 'string', 'just', 'like', 'in', 'lists']\n",
      "['l', 'h', 't', 'u', 'i', 'n', 'i']\n",
      "lhtuini\n"
     ]
    }
   ],
   "source": [
    "str1 = 'slice the string just like in lists'\n",
    "\n",
    "print(str1)\n",
    "splitVals = str1.split()\n",
    "print(splitVals)\n",
    "cypher1 = []\n",
    "cypher2 = ''\n",
    "for i in splitVals:\n",
    "    cypher1.append(i[1])\n",
    "    cypher2+=i[1]\n",
    "    #print()\n",
    "print(cypher1)\n",
    "print(cypher2)"
   ]
  },
  {
   "cell_type": "code",
   "execution_count": 113,
   "id": "acd5de31",
   "metadata": {},
   "outputs": [
    {
     "data": {
      "text/plain": [
       "['slice', 'the', 'string', 'just', 'like', 'in', 'lists']"
      ]
     },
     "execution_count": 113,
     "metadata": {},
     "output_type": "execute_result"
    }
   ],
   "source": [
    "splitVals"
   ]
  },
  {
   "cell_type": "code",
   "execution_count": 121,
   "id": "80905020",
   "metadata": {},
   "outputs": [
    {
     "name": "stdout",
     "output_type": "stream",
     "text": [
      "s\n",
      "l\n",
      "i\n",
      "c\n",
      "e\n"
     ]
    }
   ],
   "source": [
    "s = 'slice'\n",
    "\n",
    "print(s[0])\n",
    "print(s[1])\n",
    "print(s[2])\n",
    "print(s[3])\n",
    "print(s[4])\n"
   ]
  },
  {
   "cell_type": "code",
   "execution_count": 130,
   "id": "c5a7f4a8",
   "metadata": {},
   "outputs": [
    {
     "name": "stdout",
     "output_type": "stream",
     "text": [
      "2\n",
      "11\n"
     ]
    }
   ],
   "source": [
    "x =1\n",
    "# if we want to increase x by 1\n",
    "\n",
    "x = x+1\n",
    "print(x)\n",
    "\n",
    "y = 1\n",
    "y+=10\n",
    "print(y)"
   ]
  },
  {
   "cell_type": "code",
   "execution_count": 132,
   "id": "3197e518",
   "metadata": {},
   "outputs": [
    {
     "ename": "SyntaxError",
     "evalue": "invalid syntax (<ipython-input-132-44fb5f12c429>, line 6)",
     "output_type": "error",
     "traceback": [
      "\u001b[1;36m  File \u001b[1;32m\"<ipython-input-132-44fb5f12c429>\"\u001b[1;36m, line \u001b[1;32m6\u001b[0m\n\u001b[1;33m    str5+ = str3+str4\u001b[0m\n\u001b[1;37m          ^\u001b[0m\n\u001b[1;31mSyntaxError\u001b[0m\u001b[1;31m:\u001b[0m invalid syntax\n"
     ]
    }
   ],
   "source": [
    "str3 ='Hauwa'\n",
    "str4 = 'Hassan'\n",
    "\n",
    "print(str3+ ' ' +str4)\n",
    "\n",
    "str5+ = str3+str4\n",
    "print(str5)"
   ]
  },
  {
   "cell_type": "code",
   "execution_count": 133,
   "id": "f3ca9c58",
   "metadata": {},
   "outputs": [],
   "source": [
    "#Sets\n",
    "\n",
    "# sets are useful for holding a collection of items without duplicates\n",
    "\n",
    "Scores =[50,80,95,70,50,67,80]\n",
    "myset = set(Scores)"
   ]
  },
  {
   "cell_type": "code",
   "execution_count": 134,
   "id": "1b601c19",
   "metadata": {},
   "outputs": [
    {
     "data": {
      "text/plain": [
       "{50, 67, 70, 80, 95}"
      ]
     },
     "execution_count": 134,
     "metadata": {},
     "output_type": "execute_result"
    }
   ],
   "source": [
    "myset"
   ]
  },
  {
   "cell_type": "code",
   "execution_count": null,
   "id": "d79d154a",
   "metadata": {},
   "outputs": [],
   "source": [
    "# curly brace used by sets also used in dictionaries"
   ]
  },
  {
   "cell_type": "code",
   "execution_count": 135,
   "id": "3831b0e3",
   "metadata": {},
   "outputs": [
    {
     "data": {
      "text/plain": [
       "set"
      ]
     },
     "execution_count": 135,
     "metadata": {},
     "output_type": "execute_result"
    }
   ],
   "source": [
    "type(myset)"
   ]
  },
  {
   "cell_type": "code",
   "execution_count": 136,
   "id": "a44f2630",
   "metadata": {},
   "outputs": [
    {
     "name": "stdout",
     "output_type": "stream",
     "text": [
      "{3456, 67, 100, 70, 80, 50, 95}\n"
     ]
    }
   ],
   "source": [
    "\n",
    "Scores =[100,3456,50,80,95,70,50,67,80]\n",
    "myset = set(Scores)\n",
    "print(myset)"
   ]
  },
  {
   "cell_type": "code",
   "execution_count": 137,
   "id": "ef70746d",
   "metadata": {},
   "outputs": [
    {
     "ename": "TypeError",
     "evalue": "'set' object is not subscriptable",
     "output_type": "error",
     "traceback": [
      "\u001b[1;31m---------------------------------------------------------------------------\u001b[0m",
      "\u001b[1;31mTypeError\u001b[0m                                 Traceback (most recent call last)",
      "\u001b[1;32m<ipython-input-137-e4a3286d695d>\u001b[0m in \u001b[0;36m<module>\u001b[1;34m\u001b[0m\n\u001b[1;32m----> 1\u001b[1;33m \u001b[0mprint\u001b[0m\u001b[1;33m(\u001b[0m\u001b[0mmyset\u001b[0m\u001b[1;33m[\u001b[0m\u001b[1;36m3\u001b[0m\u001b[1;33m]\u001b[0m\u001b[1;33m)\u001b[0m\u001b[1;33m\u001b[0m\u001b[1;33m\u001b[0m\u001b[0m\n\u001b[0m",
      "\u001b[1;31mTypeError\u001b[0m: 'set' object is not subscriptable"
     ]
    }
   ],
   "source": [
    "print(myset[3])"
   ]
  },
  {
   "cell_type": "code",
   "execution_count": 152,
   "id": "cb2c68bb",
   "metadata": {},
   "outputs": [],
   "source": [
    "set1 = {2,4,6,9}\n",
    "set2 = {9,4,6,2,8,10}\n",
    "\n",
    "list1 = [2,4,6,9]\n",
    "list2 = [9,4,6,2]"
   ]
  },
  {
   "cell_type": "code",
   "execution_count": 153,
   "id": "330b8873",
   "metadata": {},
   "outputs": [
    {
     "name": "stdout",
     "output_type": "stream",
     "text": [
      "yes they are same thing\n"
     ]
    }
   ],
   "source": [
    "if set1 == set2:\n",
    "    print('yes they are same thing')\n",
    "else:\n",
    "    print('the sets are different')"
   ]
  },
  {
   "cell_type": "code",
   "execution_count": 143,
   "id": "73f6abec",
   "metadata": {},
   "outputs": [
    {
     "name": "stdout",
     "output_type": "stream",
     "text": [
      "set 1 not in set2\n"
     ]
    }
   ],
   "source": [
    "if set1 in set2:\n",
    "    print('yes they are same thing')\n",
    "else:\n",
    "    print('set 1 not in set2')"
   ]
  },
  {
   "cell_type": "code",
   "execution_count": 144,
   "id": "5e2ca03e",
   "metadata": {},
   "outputs": [
    {
     "name": "stdout",
     "output_type": "stream",
     "text": [
      "lists not identical\n"
     ]
    }
   ],
   "source": [
    "if list1 == list2:\n",
    "    print('yes they are same thing')\n",
    "    \n",
    "else:\n",
    "    print('lists not identical')"
   ]
  },
  {
   "cell_type": "code",
   "execution_count": null,
   "id": "0fa326be",
   "metadata": {},
   "outputs": [],
   "source": []
  },
  {
   "cell_type": "code",
   "execution_count": 147,
   "id": "26b974ba",
   "metadata": {},
   "outputs": [
    {
     "name": "stdout",
     "output_type": "stream",
     "text": [
      "2576\n"
     ]
    }
   ],
   "source": [
    "age = 56\n",
    "gender = 'female'\n",
    "income = 564.89\n",
    "\n",
    "staffProfileList = [age,gender,income]\n",
    "staffProfileList\n",
    "y = 56\n",
    "j=46\n",
    "print(y*j)"
   ]
  },
  {
   "cell_type": "code",
   "execution_count": 149,
   "id": "c1492d6b",
   "metadata": {},
   "outputs": [
    {
     "name": "stdout",
     "output_type": "stream",
     "text": [
      "jerry\n",
      "tunde\n",
      "max\n"
     ]
    }
   ],
   "source": [
    "t1 = ['jerry','tunde','max']\n",
    "\n",
    "for items in t1:\n",
    "    print(items)"
   ]
  },
  {
   "cell_type": "code",
   "execution_count": null,
   "id": "a3a6fb53",
   "metadata": {},
   "outputs": [],
   "source": [
    "Present:Stanley Omeike"
   ]
  },
  {
   "cell_type": "code",
   "execution_count": null,
   "id": "1954a640",
   "metadata": {},
   "outputs": [],
   "source": []
  },
  {
   "cell_type": "code",
   "execution_count": null,
   "id": "5f10fa8b",
   "metadata": {},
   "outputs": [],
   "source": []
  },
  {
   "cell_type": "code",
   "execution_count": 1,
   "id": "b0ca445b",
   "metadata": {},
   "outputs": [
    {
     "data": {
      "text/plain": [
       "[23, 45, 'james', 3.5, 23]"
      ]
     },
     "execution_count": 1,
     "metadata": {},
     "output_type": "execute_result"
    }
   ],
   "source": [
    "# List\n",
    "\n",
    "mylist = [23,45,'james',3.5, 23]\n",
    "mylist"
   ]
  },
  {
   "cell_type": "code",
   "execution_count": 21,
   "id": "5e6577ca",
   "metadata": {},
   "outputs": [
    {
     "data": {
      "text/plain": [
       "tuple"
      ]
     },
     "execution_count": 21,
     "metadata": {},
     "output_type": "execute_result"
    }
   ],
   "source": [
    "age = (30,10)\n",
    "type(age)"
   ]
  },
  {
   "cell_type": "code",
   "execution_count": 3,
   "id": "95c2975b",
   "metadata": {},
   "outputs": [
    {
     "data": {
      "text/plain": [
       "(23, 45, 'james', 3.5, 23)"
      ]
     },
     "execution_count": 3,
     "metadata": {},
     "output_type": "execute_result"
    }
   ],
   "source": [
    "# Tuple\n",
    "myTupule = (23,45,'james',3.5, 23)\n",
    "myTupule"
   ]
  },
  {
   "cell_type": "code",
   "execution_count": 5,
   "id": "39ba5bdf",
   "metadata": {},
   "outputs": [
    {
     "name": "stdout",
     "output_type": "stream",
     "text": [
      "5\n"
     ]
    }
   ],
   "source": [
    "lengthOfList = len(mylist)\n",
    "print(lengthOfList)"
   ]
  },
  {
   "cell_type": "code",
   "execution_count": null,
   "id": "ab3925e5",
   "metadata": {},
   "outputs": [],
   "source": [
    "# immutable Vs mutable"
   ]
  },
  {
   "cell_type": "code",
   "execution_count": 7,
   "id": "6d9f2dba",
   "metadata": {},
   "outputs": [
    {
     "name": "stdout",
     "output_type": "stream",
     "text": [
      "[23, 45, 'james', 3.5, 23, 'Jerry', 'Jerry']\n",
      "7\n"
     ]
    }
   ],
   "source": [
    "mylist.append('Jerry')\n",
    "print(mylist)\n",
    "lengthOfList = len(mylist)\n",
    "print(lengthOfList)"
   ]
  },
  {
   "cell_type": "code",
   "execution_count": 11,
   "id": "4d072fc3",
   "metadata": {},
   "outputs": [
    {
     "ename": "AttributeError",
     "evalue": "'tuple' object has no attribute 'insert'",
     "output_type": "error",
     "traceback": [
      "\u001b[1;31m---------------------------------------------------------------------------\u001b[0m",
      "\u001b[1;31mAttributeError\u001b[0m                            Traceback (most recent call last)",
      "\u001b[1;32m<ipython-input-11-7867ff35cf27>\u001b[0m in \u001b[0;36m<module>\u001b[1;34m\u001b[0m\n\u001b[1;32m----> 1\u001b[1;33m \u001b[0mnewTuple\u001b[0m \u001b[1;33m=\u001b[0m \u001b[0mmyTupule\u001b[0m\u001b[1;33m.\u001b[0m\u001b[0minsert\u001b[0m\u001b[1;33m(\u001b[0m\u001b[1;36m3\u001b[0m\u001b[1;33m,\u001b[0m\u001b[1;34m'Jerry'\u001b[0m\u001b[1;33m)\u001b[0m\u001b[1;33m\u001b[0m\u001b[1;33m\u001b[0m\u001b[0m\n\u001b[0m\u001b[0;32m      2\u001b[0m \u001b[0mnewTuple\u001b[0m\u001b[1;33m\u001b[0m\u001b[1;33m\u001b[0m\u001b[0m\n",
      "\u001b[1;31mAttributeError\u001b[0m: 'tuple' object has no attribute 'insert'"
     ]
    }
   ],
   "source": [
    "newTuple = myTupule.insert(3,'Jerry')\n",
    "newTuple"
   ]
  },
  {
   "cell_type": "code",
   "execution_count": 14,
   "id": "cececeee",
   "metadata": {},
   "outputs": [
    {
     "data": {
      "text/plain": [
       "(3.5, 23, 99)"
      ]
     },
     "execution_count": 14,
     "metadata": {},
     "output_type": "execute_result"
    }
   ],
   "source": [
    "# extract items in index pos 3 and 5\n",
    "myTupule = (23,45,'james',3.5, 23,99)\n",
    "newTuple = myTupule[3:]\n",
    "newTuple"
   ]
  },
  {
   "cell_type": "code",
   "execution_count": 16,
   "id": "7d0e63bf",
   "metadata": {},
   "outputs": [
    {
     "data": {
      "text/plain": [
       "(3.5, 99)"
      ]
     },
     "execution_count": 16,
     "metadata": {},
     "output_type": "execute_result"
    }
   ],
   "source": [
    "# extract items in index pos 3 and 5\n",
    "myTupule = (23,45,'james',3.5, 23,99)\n",
    "newTuple = myTupule[3],myTupule[5]\n",
    "newTuple"
   ]
  },
  {
   "cell_type": "code",
   "execution_count": null,
   "id": "92436941",
   "metadata": {},
   "outputs": [],
   "source": [
    "Scores =[50,80,95,70,50,67,80]"
   ]
  },
  {
   "cell_type": "code",
   "execution_count": null,
   "id": "6d2513f2",
   "metadata": {},
   "outputs": [],
   "source": [
    "no"
   ]
  },
  {
   "cell_type": "code",
   "execution_count": null,
   "id": "7728419c",
   "metadata": {},
   "outputs": [],
   "source": []
  },
  {
   "cell_type": "code",
   "execution_count": null,
   "id": "e14d1712",
   "metadata": {},
   "outputs": [],
   "source": []
  },
  {
   "cell_type": "code",
   "execution_count": null,
   "id": "218ba935",
   "metadata": {},
   "outputs": [],
   "source": []
  },
  {
   "cell_type": "code",
   "execution_count": null,
   "id": "9027324d",
   "metadata": {},
   "outputs": [],
   "source": []
  },
  {
   "cell_type": "code",
   "execution_count": null,
   "id": "a3d61c8f",
   "metadata": {},
   "outputs": [],
   "source": []
  },
  {
   "cell_type": "code",
   "execution_count": null,
   "id": "b1e6692b",
   "metadata": {},
   "outputs": [],
   "source": []
  },
  {
   "cell_type": "code",
   "execution_count": null,
   "id": "89c28ee4",
   "metadata": {},
   "outputs": [],
   "source": []
  },
  {
   "cell_type": "code",
   "execution_count": null,
   "id": "2b989b1c",
   "metadata": {},
   "outputs": [],
   "source": []
  },
  {
   "cell_type": "code",
   "execution_count": null,
   "id": "514cc602",
   "metadata": {},
   "outputs": [],
   "source": []
  },
  {
   "cell_type": "code",
   "execution_count": null,
   "id": "8ffd25a9",
   "metadata": {},
   "outputs": [],
   "source": []
  },
  {
   "cell_type": "code",
   "execution_count": null,
   "id": "bfaacff5",
   "metadata": {},
   "outputs": [],
   "source": []
  },
  {
   "cell_type": "code",
   "execution_count": null,
   "id": "8430a11a",
   "metadata": {},
   "outputs": [],
   "source": []
  },
  {
   "cell_type": "code",
   "execution_count": null,
   "id": "e12fe9fd",
   "metadata": {},
   "outputs": [],
   "source": []
  },
  {
   "cell_type": "code",
   "execution_count": null,
   "id": "b597de54",
   "metadata": {},
   "outputs": [],
   "source": []
  },
  {
   "cell_type": "code",
   "execution_count": null,
   "id": "f65dd90d",
   "metadata": {},
   "outputs": [],
   "source": []
  },
  {
   "cell_type": "code",
   "execution_count": null,
   "id": "6fbefe0e",
   "metadata": {},
   "outputs": [],
   "source": []
  },
  {
   "cell_type": "code",
   "execution_count": null,
   "id": "722d4d00",
   "metadata": {},
   "outputs": [],
   "source": []
  },
  {
   "cell_type": "code",
   "execution_count": null,
   "id": "a586f589",
   "metadata": {},
   "outputs": [],
   "source": []
  },
  {
   "cell_type": "code",
   "execution_count": null,
   "id": "81467e71",
   "metadata": {},
   "outputs": [],
   "source": []
  },
  {
   "cell_type": "code",
   "execution_count": null,
   "id": "4bfafdb5",
   "metadata": {},
   "outputs": [],
   "source": []
  },
  {
   "cell_type": "code",
   "execution_count": null,
   "id": "510428ea",
   "metadata": {},
   "outputs": [],
   "source": []
  },
  {
   "cell_type": "code",
   "execution_count": null,
   "id": "5b132d3a",
   "metadata": {},
   "outputs": [],
   "source": []
  }
 ],
 "metadata": {
  "kernelspec": {
   "display_name": "Python 3",
   "language": "python",
   "name": "python3"
  },
  "language_info": {
   "codemirror_mode": {
    "name": "ipython",
    "version": 3
   },
   "file_extension": ".py",
   "mimetype": "text/x-python",
   "name": "python",
   "nbconvert_exporter": "python",
   "pygments_lexer": "ipython3",
   "version": "3.8.8"
  }
 },
 "nbformat": 4,
 "nbformat_minor": 5
}
